{
 "cells": [
  {
   "cell_type": "code",
   "execution_count": 1,
   "id": "2c950f87-b10c-4341-857c-ca54d2ae8198",
   "metadata": {
    "tags": []
   },
   "outputs": [
    {
     "name": "stdout",
     "output_type": "stream",
     "text": [
      "Python 3.8.17\n"
     ]
    }
   ],
   "source": [
    "!python --version"
   ]
  },
  {
   "cell_type": "code",
   "execution_count": null,
   "id": "7d9dc256-578e-46ea-b637-d3638dd77078",
   "metadata": {},
   "outputs": [],
   "source": [
    "!pip install recommenders"
   ]
  },
  {
   "cell_type": "code",
   "execution_count": 2,
   "id": "3ed20c03-2c5e-4e5f-a9a0-85ffbc2a7715",
   "metadata": {
    "tags": []
   },
   "outputs": [
    {
     "name": "stderr",
     "output_type": "stream",
     "text": [
      "C:\\Users\\super\\anaconda3\\envs\\python38\\lib\\site-packages\\tqdm\\auto.py:21: TqdmWarning: IProgress not found. Please update jupyter and ipywidgets. See https://ipywidgets.readthedocs.io/en/stable/user_install.html\n",
      "  from .autonotebook import tqdm as notebook_tqdm\n",
      "None of PyTorch, TensorFlow >= 2.0, or Flax have been found. Models won't be available and only tokenizers, configuration and file/data utilities can be used.\n"
     ]
    },
    {
     "name": "stdout",
     "output_type": "stream",
     "text": [
      "System version: 3.8.17 (default, Jul  5 2023, 20:44:21) [MSC v.1916 64 bit (AMD64)]\n"
     ]
    }
   ],
   "source": [
    "import sys\n",
    "from recommenders.models.tfidf.tfidf_utils import TfidfRecommender\n",
    "\n",
    "# Print version\n",
    "print(\"System version: {}\".format(sys.version))"
   ]
  },
  {
   "cell_type": "code",
   "execution_count": 4,
   "id": "0db9e8fd-7519-4838-bc2c-b665d920d45f",
   "metadata": {
    "tags": []
   },
   "outputs": [],
   "source": [
    "import pandas as pd"
   ]
  },
  {
   "cell_type": "code",
   "execution_count": 5,
   "id": "eebdc102-9d0a-416f-b456-1f5d51f994a8",
   "metadata": {
    "tags": []
   },
   "outputs": [
    {
     "data": {
      "text/html": [
       "<div>\n",
       "<style scoped>\n",
       "    .dataframe tbody tr th:only-of-type {\n",
       "        vertical-align: middle;\n",
       "    }\n",
       "\n",
       "    .dataframe tbody tr th {\n",
       "        vertical-align: top;\n",
       "    }\n",
       "\n",
       "    .dataframe thead th {\n",
       "        text-align: right;\n",
       "    }\n",
       "</style>\n",
       "<table border=\"1\" class=\"dataframe\">\n",
       "  <thead>\n",
       "    <tr style=\"text-align: right;\">\n",
       "      <th></th>\n",
       "      <th>auction_id</th>\n",
       "      <th>product_id</th>\n",
       "      <th>item</th>\n",
       "      <th>desc</th>\n",
       "      <th>retail</th>\n",
       "      <th>price</th>\n",
       "      <th>finalprice</th>\n",
       "      <th>bidincrement</th>\n",
       "      <th>bidfee</th>\n",
       "      <th>winner</th>\n",
       "      <th>placedbids</th>\n",
       "      <th>freebids</th>\n",
       "      <th>endtime_str</th>\n",
       "      <th>flg_click_only</th>\n",
       "      <th>flg_beginnerauction</th>\n",
       "      <th>flg_fixedprice</th>\n",
       "      <th>flg_endprice</th>\n",
       "    </tr>\n",
       "  </thead>\n",
       "  <tbody>\n",
       "    <tr>\n",
       "      <th>0</th>\n",
       "      <td>86827</td>\n",
       "      <td>10009602</td>\n",
       "      <td>sony-ericsson-s500i-unlocked-mysterious-</td>\n",
       "      <td>Sony Ericsson S500i Unlocked Mysterious Green</td>\n",
       "      <td>499.99</td>\n",
       "      <td>13.35</td>\n",
       "      <td>13.35</td>\n",
       "      <td>15</td>\n",
       "      <td>75</td>\n",
       "      <td>Racer11</td>\n",
       "      <td>26</td>\n",
       "      <td>0</td>\n",
       "      <td>19:52 PDT 09-16-2008</td>\n",
       "      <td>0</td>\n",
       "      <td>0</td>\n",
       "      <td>0</td>\n",
       "      <td>0</td>\n",
       "    </tr>\n",
       "    <tr>\n",
       "      <th>1</th>\n",
       "      <td>87964</td>\n",
       "      <td>10009881</td>\n",
       "      <td>psp-slim-lite-sony-piano-black</td>\n",
       "      <td>PSP Slim &amp; Lite Sony Piano Black</td>\n",
       "      <td>169.99</td>\n",
       "      <td>74.70</td>\n",
       "      <td>74.70</td>\n",
       "      <td>15</td>\n",
       "      <td>75</td>\n",
       "      <td>Cemo23</td>\n",
       "      <td>65</td>\n",
       "      <td>0</td>\n",
       "      <td>11:17 PDT 08-28-2008</td>\n",
       "      <td>0</td>\n",
       "      <td>0</td>\n",
       "      <td>0</td>\n",
       "      <td>0</td>\n",
       "    </tr>\n",
       "    <tr>\n",
       "      <th>2</th>\n",
       "      <td>87965</td>\n",
       "      <td>10009881</td>\n",
       "      <td>psp-slim-lite-sony-piano-black</td>\n",
       "      <td>PSP Slim &amp; Lite Sony Piano Black</td>\n",
       "      <td>169.99</td>\n",
       "      <td>83.10</td>\n",
       "      <td>83.10</td>\n",
       "      <td>15</td>\n",
       "      <td>75</td>\n",
       "      <td>Jacobsonnich</td>\n",
       "      <td>94</td>\n",
       "      <td>0</td>\n",
       "      <td>22:52 PDT 11-07-2008</td>\n",
       "      <td>0</td>\n",
       "      <td>1</td>\n",
       "      <td>0</td>\n",
       "      <td>0</td>\n",
       "    </tr>\n",
       "    <tr>\n",
       "      <th>3</th>\n",
       "      <td>88638</td>\n",
       "      <td>10006115</td>\n",
       "      <td>sony-ericsson-s500i-unlocked-mysterious-</td>\n",
       "      <td>Sony Ericsson S500i Unlocked Mysterious Green</td>\n",
       "      <td>499.99</td>\n",
       "      <td>19.65</td>\n",
       "      <td>19.65</td>\n",
       "      <td>15</td>\n",
       "      <td>75</td>\n",
       "      <td>Mokkis</td>\n",
       "      <td>10</td>\n",
       "      <td>0</td>\n",
       "      <td>22:02 PDT 08-23-2008</td>\n",
       "      <td>0</td>\n",
       "      <td>0</td>\n",
       "      <td>0</td>\n",
       "      <td>0</td>\n",
       "    </tr>\n",
       "    <tr>\n",
       "      <th>4</th>\n",
       "      <td>88639</td>\n",
       "      <td>10006115</td>\n",
       "      <td>sony-ericsson-s500i-unlocked-mysterious-</td>\n",
       "      <td>Sony Ericsson S500i Unlocked Mysterious Green</td>\n",
       "      <td>499.99</td>\n",
       "      <td>47.10</td>\n",
       "      <td>47.10</td>\n",
       "      <td>15</td>\n",
       "      <td>75</td>\n",
       "      <td>Superloeffel</td>\n",
       "      <td>80</td>\n",
       "      <td>0</td>\n",
       "      <td>14:23 PDT 08-24-2008</td>\n",
       "      <td>0</td>\n",
       "      <td>0</td>\n",
       "      <td>0</td>\n",
       "      <td>0</td>\n",
       "    </tr>\n",
       "  </tbody>\n",
       "</table>\n",
       "</div>"
      ],
      "text/plain": [
       "   auction_id  product_id                                      item  \\\n",
       "0       86827    10009602  sony-ericsson-s500i-unlocked-mysterious-   \n",
       "1       87964    10009881            psp-slim-lite-sony-piano-black   \n",
       "2       87965    10009881            psp-slim-lite-sony-piano-black   \n",
       "3       88638    10006115  sony-ericsson-s500i-unlocked-mysterious-   \n",
       "4       88639    10006115  sony-ericsson-s500i-unlocked-mysterious-   \n",
       "\n",
       "                                            desc  retail  price  finalprice  \\\n",
       "0  Sony Ericsson S500i Unlocked Mysterious Green  499.99  13.35       13.35   \n",
       "1               PSP Slim & Lite Sony Piano Black  169.99  74.70       74.70   \n",
       "2               PSP Slim & Lite Sony Piano Black  169.99  83.10       83.10   \n",
       "3  Sony Ericsson S500i Unlocked Mysterious Green  499.99  19.65       19.65   \n",
       "4  Sony Ericsson S500i Unlocked Mysterious Green  499.99  47.10       47.10   \n",
       "\n",
       "   bidincrement  bidfee        winner  placedbids  freebids  \\\n",
       "0            15      75       Racer11          26         0   \n",
       "1            15      75        Cemo23          65         0   \n",
       "2            15      75  Jacobsonnich          94         0   \n",
       "3            15      75        Mokkis          10         0   \n",
       "4            15      75  Superloeffel          80         0   \n",
       "\n",
       "            endtime_str  flg_click_only  flg_beginnerauction  flg_fixedprice  \\\n",
       "0  19:52 PDT 09-16-2008               0                    0               0   \n",
       "1  11:17 PDT 08-28-2008               0                    0               0   \n",
       "2  22:52 PDT 11-07-2008               0                    1               0   \n",
       "3  22:02 PDT 08-23-2008               0                    0               0   \n",
       "4  14:23 PDT 08-24-2008               0                    0               0   \n",
       "\n",
       "   flg_endprice  \n",
       "0             0  \n",
       "1             0  \n",
       "2             0  \n",
       "3             0  \n",
       "4             0  "
      ]
     },
     "execution_count": 5,
     "metadata": {},
     "output_type": "execute_result"
    }
   ],
   "source": [
    "df=pd.read_table('outcomes.tsv')\n",
    "df.head()"
   ]
  },
  {
   "cell_type": "code",
   "execution_count": 7,
   "id": "5ff63e5a-0ca4-4fb3-97a4-09b4f793ca21",
   "metadata": {
    "tags": []
   },
   "outputs": [],
   "source": [
    "recommender=TfidfRecommender(id_col='product_id',tokenization_method='scibert')"
   ]
  },
  {
   "cell_type": "code",
   "execution_count": 9,
   "id": "b5e77a80-db97-4450-9af4-0a0871b194c0",
   "metadata": {
    "tags": []
   },
   "outputs": [
    {
     "data": {
      "text/html": [
       "<div>\n",
       "<style scoped>\n",
       "    .dataframe tbody tr th:only-of-type {\n",
       "        vertical-align: middle;\n",
       "    }\n",
       "\n",
       "    .dataframe tbody tr th {\n",
       "        vertical-align: top;\n",
       "    }\n",
       "\n",
       "    .dataframe thead th {\n",
       "        text-align: right;\n",
       "    }\n",
       "</style>\n",
       "<table border=\"1\" class=\"dataframe\">\n",
       "  <thead>\n",
       "    <tr style=\"text-align: right;\">\n",
       "      <th></th>\n",
       "      <th>auction_id</th>\n",
       "      <th>product_id</th>\n",
       "      <th>item</th>\n",
       "      <th>desc</th>\n",
       "      <th>retail</th>\n",
       "      <th>price</th>\n",
       "      <th>finalprice</th>\n",
       "      <th>bidincrement</th>\n",
       "      <th>bidfee</th>\n",
       "      <th>winner</th>\n",
       "      <th>placedbids</th>\n",
       "      <th>freebids</th>\n",
       "      <th>endtime_str</th>\n",
       "      <th>flg_click_only</th>\n",
       "      <th>flg_beginnerauction</th>\n",
       "      <th>flg_fixedprice</th>\n",
       "      <th>flg_endprice</th>\n",
       "      <th>cleaned_text</th>\n",
       "    </tr>\n",
       "  </thead>\n",
       "  <tbody>\n",
       "    <tr>\n",
       "      <th>0</th>\n",
       "      <td>86827</td>\n",
       "      <td>10009602</td>\n",
       "      <td>sony-ericsson-s500i-unlocked-mysterious-</td>\n",
       "      <td>Sony Ericsson S500i Unlocked Mysterious Green</td>\n",
       "      <td>499.99</td>\n",
       "      <td>13.35</td>\n",
       "      <td>13.35</td>\n",
       "      <td>15</td>\n",
       "      <td>75</td>\n",
       "      <td>Racer11</td>\n",
       "      <td>26</td>\n",
       "      <td>0</td>\n",
       "      <td>19:52 PDT 09-16-2008</td>\n",
       "      <td>0</td>\n",
       "      <td>0</td>\n",
       "      <td>0</td>\n",
       "      <td>0</td>\n",
       "      <td>Sony Ericsson S500i Unlocked Mysterious Green</td>\n",
       "    </tr>\n",
       "    <tr>\n",
       "      <th>1</th>\n",
       "      <td>87964</td>\n",
       "      <td>10009881</td>\n",
       "      <td>psp-slim-lite-sony-piano-black</td>\n",
       "      <td>PSP Slim &amp; Lite Sony Piano Black</td>\n",
       "      <td>169.99</td>\n",
       "      <td>74.70</td>\n",
       "      <td>74.70</td>\n",
       "      <td>15</td>\n",
       "      <td>75</td>\n",
       "      <td>Cemo23</td>\n",
       "      <td>65</td>\n",
       "      <td>0</td>\n",
       "      <td>11:17 PDT 08-28-2008</td>\n",
       "      <td>0</td>\n",
       "      <td>0</td>\n",
       "      <td>0</td>\n",
       "      <td>0</td>\n",
       "      <td>PSP Slim  Lite Sony Piano Black</td>\n",
       "    </tr>\n",
       "    <tr>\n",
       "      <th>2</th>\n",
       "      <td>87965</td>\n",
       "      <td>10009881</td>\n",
       "      <td>psp-slim-lite-sony-piano-black</td>\n",
       "      <td>PSP Slim &amp; Lite Sony Piano Black</td>\n",
       "      <td>169.99</td>\n",
       "      <td>83.10</td>\n",
       "      <td>83.10</td>\n",
       "      <td>15</td>\n",
       "      <td>75</td>\n",
       "      <td>Jacobsonnich</td>\n",
       "      <td>94</td>\n",
       "      <td>0</td>\n",
       "      <td>22:52 PDT 11-07-2008</td>\n",
       "      <td>0</td>\n",
       "      <td>1</td>\n",
       "      <td>0</td>\n",
       "      <td>0</td>\n",
       "      <td>PSP Slim  Lite Sony Piano Black</td>\n",
       "    </tr>\n",
       "    <tr>\n",
       "      <th>3</th>\n",
       "      <td>88638</td>\n",
       "      <td>10006115</td>\n",
       "      <td>sony-ericsson-s500i-unlocked-mysterious-</td>\n",
       "      <td>Sony Ericsson S500i Unlocked Mysterious Green</td>\n",
       "      <td>499.99</td>\n",
       "      <td>19.65</td>\n",
       "      <td>19.65</td>\n",
       "      <td>15</td>\n",
       "      <td>75</td>\n",
       "      <td>Mokkis</td>\n",
       "      <td>10</td>\n",
       "      <td>0</td>\n",
       "      <td>22:02 PDT 08-23-2008</td>\n",
       "      <td>0</td>\n",
       "      <td>0</td>\n",
       "      <td>0</td>\n",
       "      <td>0</td>\n",
       "      <td>Sony Ericsson S500i Unlocked Mysterious Green</td>\n",
       "    </tr>\n",
       "    <tr>\n",
       "      <th>4</th>\n",
       "      <td>88639</td>\n",
       "      <td>10006115</td>\n",
       "      <td>sony-ericsson-s500i-unlocked-mysterious-</td>\n",
       "      <td>Sony Ericsson S500i Unlocked Mysterious Green</td>\n",
       "      <td>499.99</td>\n",
       "      <td>47.10</td>\n",
       "      <td>47.10</td>\n",
       "      <td>15</td>\n",
       "      <td>75</td>\n",
       "      <td>Superloeffel</td>\n",
       "      <td>80</td>\n",
       "      <td>0</td>\n",
       "      <td>14:23 PDT 08-24-2008</td>\n",
       "      <td>0</td>\n",
       "      <td>0</td>\n",
       "      <td>0</td>\n",
       "      <td>0</td>\n",
       "      <td>Sony Ericsson S500i Unlocked Mysterious Green</td>\n",
       "    </tr>\n",
       "  </tbody>\n",
       "</table>\n",
       "</div>"
      ],
      "text/plain": [
       "   auction_id  product_id                                      item  \\\n",
       "0       86827    10009602  sony-ericsson-s500i-unlocked-mysterious-   \n",
       "1       87964    10009881            psp-slim-lite-sony-piano-black   \n",
       "2       87965    10009881            psp-slim-lite-sony-piano-black   \n",
       "3       88638    10006115  sony-ericsson-s500i-unlocked-mysterious-   \n",
       "4       88639    10006115  sony-ericsson-s500i-unlocked-mysterious-   \n",
       "\n",
       "                                            desc  retail  price  finalprice  \\\n",
       "0  Sony Ericsson S500i Unlocked Mysterious Green  499.99  13.35       13.35   \n",
       "1               PSP Slim & Lite Sony Piano Black  169.99  74.70       74.70   \n",
       "2               PSP Slim & Lite Sony Piano Black  169.99  83.10       83.10   \n",
       "3  Sony Ericsson S500i Unlocked Mysterious Green  499.99  19.65       19.65   \n",
       "4  Sony Ericsson S500i Unlocked Mysterious Green  499.99  47.10       47.10   \n",
       "\n",
       "   bidincrement  bidfee        winner  placedbids  freebids  \\\n",
       "0            15      75       Racer11          26         0   \n",
       "1            15      75        Cemo23          65         0   \n",
       "2            15      75  Jacobsonnich          94         0   \n",
       "3            15      75        Mokkis          10         0   \n",
       "4            15      75  Superloeffel          80         0   \n",
       "\n",
       "            endtime_str  flg_click_only  flg_beginnerauction  flg_fixedprice  \\\n",
       "0  19:52 PDT 09-16-2008               0                    0               0   \n",
       "1  11:17 PDT 08-28-2008               0                    0               0   \n",
       "2  22:52 PDT 11-07-2008               0                    1               0   \n",
       "3  22:02 PDT 08-23-2008               0                    0               0   \n",
       "4  14:23 PDT 08-24-2008               0                    0               0   \n",
       "\n",
       "   flg_endprice                                   cleaned_text  \n",
       "0             0  Sony Ericsson S500i Unlocked Mysterious Green  \n",
       "1             0                PSP Slim  Lite Sony Piano Black  \n",
       "2             0                PSP Slim  Lite Sony Piano Black  \n",
       "3             0  Sony Ericsson S500i Unlocked Mysterious Green  \n",
       "4             0  Sony Ericsson S500i Unlocked Mysterious Green  "
      ]
     },
     "execution_count": 9,
     "metadata": {},
     "output_type": "execute_result"
    }
   ],
   "source": [
    "cols_to_clean=['desc']\n",
    "clean_col='cleaned_text'\n",
    "df_clean=recommender.clean_dataframe(df,cols_to_clean,clean_col)\n",
    "df_clean.head()"
   ]
  },
  {
   "cell_type": "code",
   "execution_count": 10,
   "id": "4cae30d4-dca8-403e-b26e-775672800141",
   "metadata": {
    "tags": []
   },
   "outputs": [
    {
     "name": "stdout",
     "output_type": "stream",
     "text": [
      "Sony Ericsson S500i Unlocked Mysterious Green\n"
     ]
    }
   ],
   "source": [
    "print(df_clean[clean_col][0][:1000])"
   ]
  },
  {
   "cell_type": "code",
   "execution_count": 11,
   "id": "a30fac55-a9af-4d66-aa30-98b8970ee29b",
   "metadata": {
    "tags": []
   },
   "outputs": [],
   "source": [
    "tf,vectors_tokenized=recommender.tokenize_text(df_clean,text_col=clean_col)"
   ]
  },
  {
   "cell_type": "code",
   "execution_count": 13,
   "id": "186e1d62-9df9-4392-9adf-b61969b15bbb",
   "metadata": {
    "tags": []
   },
   "outputs": [
    {
     "ename": "MemoryError",
     "evalue": "Unable to allocate 6.71 GiB for an array with shape (1800695893,) and data type int32",
     "output_type": "error",
     "traceback": [
      "\u001b[1;31m---------------------------------------------------------------------------\u001b[0m",
      "\u001b[1;31mMemoryError\u001b[0m                               Traceback (most recent call last)",
      "Cell \u001b[1;32mIn[13], line 3\u001b[0m\n\u001b[0;32m      1\u001b[0m recommender\u001b[38;5;241m.\u001b[39mfit(tf, vectors_tokenized)\n\u001b[1;32m----> 3\u001b[0m top_k_recommendations \u001b[38;5;241m=\u001b[39m \u001b[43mrecommender\u001b[49m\u001b[38;5;241;43m.\u001b[39;49m\u001b[43mrecommend_top_k_items\u001b[49m\u001b[43m(\u001b[49m\u001b[43mdf_clean\u001b[49m\u001b[43m,\u001b[49m\u001b[43m \u001b[49m\u001b[43mk\u001b[49m\u001b[38;5;241;43m=\u001b[39;49m\u001b[38;5;241;43m5\u001b[39;49m\u001b[43m)\u001b[49m\n",
      "File \u001b[1;32m~\\anaconda3\\envs\\python38\\lib\\site-packages\\recommenders\\models\\tfidf\\tfidf_utils.py:313\u001b[0m, in \u001b[0;36mTfidfRecommender.recommend_top_k_items\u001b[1;34m(self, df_clean, k)\u001b[0m\n\u001b[0;32m    309\u001b[0m \u001b[38;5;28;01mif\u001b[39;00m k \u001b[38;5;241m>\u001b[39m \u001b[38;5;28mlen\u001b[39m(df_clean) \u001b[38;5;241m-\u001b[39m \u001b[38;5;241m1\u001b[39m:\n\u001b[0;32m    310\u001b[0m     \u001b[38;5;28;01mraise\u001b[39;00m \u001b[38;5;167;01mValueError\u001b[39;00m(\n\u001b[0;32m    311\u001b[0m         \u001b[38;5;124m\"\u001b[39m\u001b[38;5;124mCannot get more recommendations than there are items. Set k lower.\u001b[39m\u001b[38;5;124m\"\u001b[39m\n\u001b[0;32m    312\u001b[0m     )\n\u001b[1;32m--> 313\u001b[0m \u001b[38;5;28;43mself\u001b[39;49m\u001b[38;5;241;43m.\u001b[39;49m\u001b[43m__create_full_recommendation_dictionary\u001b[49m\u001b[43m(\u001b[49m\u001b[43mdf_clean\u001b[49m\u001b[43m)\u001b[49m\n\u001b[0;32m    314\u001b[0m \u001b[38;5;28mself\u001b[39m\u001b[38;5;241m.\u001b[39m__organize_results_as_tabular(df_clean, k)\n\u001b[0;32m    316\u001b[0m \u001b[38;5;28;01mreturn\u001b[39;00m \u001b[38;5;28mself\u001b[39m\u001b[38;5;241m.\u001b[39mtop_k_recommendations\n",
      "File \u001b[1;32m~\\anaconda3\\envs\\python38\\lib\\site-packages\\recommenders\\models\\tfidf\\tfidf_utils.py:242\u001b[0m, in \u001b[0;36mTfidfRecommender.__create_full_recommendation_dictionary\u001b[1;34m(self, df_clean)\u001b[0m\n\u001b[0;32m    235\u001b[0m \u001b[38;5;250m\u001b[39m\u001b[38;5;124;03m\"\"\"Create the full recommendation dictionary containing all recommendations for all items.\u001b[39;00m\n\u001b[0;32m    236\u001b[0m \n\u001b[0;32m    237\u001b[0m \u001b[38;5;124;03mArgs:\u001b[39;00m\n\u001b[0;32m    238\u001b[0m \u001b[38;5;124;03m    pandas.DataFrame: Dataframe with cleaned text.\u001b[39;00m\n\u001b[0;32m    239\u001b[0m \u001b[38;5;124;03m\"\"\"\u001b[39;00m\n\u001b[0;32m    241\u001b[0m \u001b[38;5;66;03m# Similarity measure\u001b[39;00m\n\u001b[1;32m--> 242\u001b[0m cosine_sim \u001b[38;5;241m=\u001b[39m \u001b[43mlinear_kernel\u001b[49m\u001b[43m(\u001b[49m\u001b[38;5;28;43mself\u001b[39;49m\u001b[38;5;241;43m.\u001b[39;49m\u001b[43mtfidf_matrix\u001b[49m\u001b[43m,\u001b[49m\u001b[43m \u001b[49m\u001b[38;5;28;43mself\u001b[39;49m\u001b[38;5;241;43m.\u001b[39;49m\u001b[43mtfidf_matrix\u001b[49m\u001b[43m)\u001b[49m\n\u001b[0;32m    244\u001b[0m \u001b[38;5;66;03m# sorted_idx has the indices that would sort the array.\u001b[39;00m\n\u001b[0;32m    245\u001b[0m sorted_idx \u001b[38;5;241m=\u001b[39m np\u001b[38;5;241m.\u001b[39margsort(cosine_sim, axis\u001b[38;5;241m=\u001b[39m\u001b[38;5;241m1\u001b[39m)\n",
      "File \u001b[1;32m~\\anaconda3\\envs\\python38\\lib\\site-packages\\sklearn\\metrics\\pairwise.py:1073\u001b[0m, in \u001b[0;36mlinear_kernel\u001b[1;34m(X, Y, dense_output)\u001b[0m\n\u001b[0;32m   1048\u001b[0m \u001b[38;5;250m\u001b[39m\u001b[38;5;124;03m\"\"\"\u001b[39;00m\n\u001b[0;32m   1049\u001b[0m \u001b[38;5;124;03mCompute the linear kernel between X and Y.\u001b[39;00m\n\u001b[0;32m   1050\u001b[0m \n\u001b[1;32m   (...)\u001b[0m\n\u001b[0;32m   1070\u001b[0m \u001b[38;5;124;03m    The Gram matrix of the linear kernel, i.e. `X @ Y.T`.\u001b[39;00m\n\u001b[0;32m   1071\u001b[0m \u001b[38;5;124;03m\"\"\"\u001b[39;00m\n\u001b[0;32m   1072\u001b[0m X, Y \u001b[38;5;241m=\u001b[39m check_pairwise_arrays(X, Y)\n\u001b[1;32m-> 1073\u001b[0m \u001b[38;5;28;01mreturn\u001b[39;00m \u001b[43msafe_sparse_dot\u001b[49m\u001b[43m(\u001b[49m\u001b[43mX\u001b[49m\u001b[43m,\u001b[49m\u001b[43m \u001b[49m\u001b[43mY\u001b[49m\u001b[38;5;241;43m.\u001b[39;49m\u001b[43mT\u001b[49m\u001b[43m,\u001b[49m\u001b[43m \u001b[49m\u001b[43mdense_output\u001b[49m\u001b[38;5;241;43m=\u001b[39;49m\u001b[43mdense_output\u001b[49m\u001b[43m)\u001b[49m\n",
      "File \u001b[1;32m~\\anaconda3\\envs\\python38\\lib\\site-packages\\sklearn\\utils\\extmath.py:153\u001b[0m, in \u001b[0;36msafe_sparse_dot\u001b[1;34m(a, b, dense_output)\u001b[0m\n\u001b[0;32m    151\u001b[0m         ret \u001b[38;5;241m=\u001b[39m np\u001b[38;5;241m.\u001b[39mdot(a, b)\n\u001b[0;32m    152\u001b[0m \u001b[38;5;28;01melse\u001b[39;00m:\n\u001b[1;32m--> 153\u001b[0m     ret \u001b[38;5;241m=\u001b[39m \u001b[43ma\u001b[49m\u001b[43m \u001b[49m\u001b[38;5;241;43m@\u001b[39;49m\u001b[43m \u001b[49m\u001b[43mb\u001b[49m\n\u001b[0;32m    155\u001b[0m \u001b[38;5;28;01mif\u001b[39;00m (\n\u001b[0;32m    156\u001b[0m     sparse\u001b[38;5;241m.\u001b[39missparse(a)\n\u001b[0;32m    157\u001b[0m     \u001b[38;5;129;01mand\u001b[39;00m sparse\u001b[38;5;241m.\u001b[39missparse(b)\n\u001b[0;32m    158\u001b[0m     \u001b[38;5;129;01mand\u001b[39;00m dense_output\n\u001b[0;32m    159\u001b[0m     \u001b[38;5;129;01mand\u001b[39;00m \u001b[38;5;28mhasattr\u001b[39m(ret, \u001b[38;5;124m\"\u001b[39m\u001b[38;5;124mtoarray\u001b[39m\u001b[38;5;124m\"\u001b[39m)\n\u001b[0;32m    160\u001b[0m ):\n\u001b[0;32m    161\u001b[0m     \u001b[38;5;28;01mreturn\u001b[39;00m ret\u001b[38;5;241m.\u001b[39mtoarray()\n",
      "File \u001b[1;32m~\\anaconda3\\envs\\python38\\lib\\site-packages\\scipy\\sparse\\_base.py:630\u001b[0m, in \u001b[0;36mspmatrix.__matmul__\u001b[1;34m(self, other)\u001b[0m\n\u001b[0;32m    627\u001b[0m \u001b[38;5;28;01mif\u001b[39;00m isscalarlike(other):\n\u001b[0;32m    628\u001b[0m     \u001b[38;5;28;01mraise\u001b[39;00m \u001b[38;5;167;01mValueError\u001b[39;00m(\u001b[38;5;124m\"\u001b[39m\u001b[38;5;124mScalar operands are not allowed, \u001b[39m\u001b[38;5;124m\"\u001b[39m\n\u001b[0;32m    629\u001b[0m                      \u001b[38;5;124m\"\u001b[39m\u001b[38;5;124muse \u001b[39m\u001b[38;5;124m'\u001b[39m\u001b[38;5;124m*\u001b[39m\u001b[38;5;124m'\u001b[39m\u001b[38;5;124m instead\u001b[39m\u001b[38;5;124m\"\u001b[39m)\n\u001b[1;32m--> 630\u001b[0m \u001b[38;5;28;01mreturn\u001b[39;00m \u001b[38;5;28;43mself\u001b[39;49m\u001b[38;5;241;43m.\u001b[39;49m\u001b[43m_mul_dispatch\u001b[49m\u001b[43m(\u001b[49m\u001b[43mother\u001b[49m\u001b[43m)\u001b[49m\n",
      "File \u001b[1;32m~\\anaconda3\\envs\\python38\\lib\\site-packages\\scipy\\sparse\\_base.py:541\u001b[0m, in \u001b[0;36mspmatrix._mul_dispatch\u001b[1;34m(self, other)\u001b[0m\n\u001b[0;32m    539\u001b[0m     \u001b[38;5;28;01mif\u001b[39;00m \u001b[38;5;28mself\u001b[39m\u001b[38;5;241m.\u001b[39mshape[\u001b[38;5;241m1\u001b[39m] \u001b[38;5;241m!=\u001b[39m other\u001b[38;5;241m.\u001b[39mshape[\u001b[38;5;241m0\u001b[39m]:\n\u001b[0;32m    540\u001b[0m         \u001b[38;5;28;01mraise\u001b[39;00m \u001b[38;5;167;01mValueError\u001b[39;00m(\u001b[38;5;124m'\u001b[39m\u001b[38;5;124mdimension mismatch\u001b[39m\u001b[38;5;124m'\u001b[39m)\n\u001b[1;32m--> 541\u001b[0m     \u001b[38;5;28;01mreturn\u001b[39;00m \u001b[38;5;28;43mself\u001b[39;49m\u001b[38;5;241;43m.\u001b[39;49m\u001b[43m_mul_sparse_matrix\u001b[49m\u001b[43m(\u001b[49m\u001b[43mother\u001b[49m\u001b[43m)\u001b[49m\n\u001b[0;32m    543\u001b[0m \u001b[38;5;66;03m# If it's a list or whatever, treat it like a matrix\u001b[39;00m\n\u001b[0;32m    544\u001b[0m other_a \u001b[38;5;241m=\u001b[39m np\u001b[38;5;241m.\u001b[39masanyarray(other)\n",
      "File \u001b[1;32m~\\anaconda3\\envs\\python38\\lib\\site-packages\\scipy\\sparse\\_compressed.py:529\u001b[0m, in \u001b[0;36m_cs_matrix._mul_sparse_matrix\u001b[1;34m(self, other)\u001b[0m\n\u001b[0;32m    524\u001b[0m idx_dtype \u001b[38;5;241m=\u001b[39m get_index_dtype((\u001b[38;5;28mself\u001b[39m\u001b[38;5;241m.\u001b[39mindptr, \u001b[38;5;28mself\u001b[39m\u001b[38;5;241m.\u001b[39mindices,\n\u001b[0;32m    525\u001b[0m                              other\u001b[38;5;241m.\u001b[39mindptr, other\u001b[38;5;241m.\u001b[39mindices),\n\u001b[0;32m    526\u001b[0m                             maxval\u001b[38;5;241m=\u001b[39mnnz)\n\u001b[0;32m    528\u001b[0m indptr \u001b[38;5;241m=\u001b[39m np\u001b[38;5;241m.\u001b[39mempty(major_axis \u001b[38;5;241m+\u001b[39m \u001b[38;5;241m1\u001b[39m, dtype\u001b[38;5;241m=\u001b[39midx_dtype)\n\u001b[1;32m--> 529\u001b[0m indices \u001b[38;5;241m=\u001b[39m \u001b[43mnp\u001b[49m\u001b[38;5;241;43m.\u001b[39;49m\u001b[43mempty\u001b[49m\u001b[43m(\u001b[49m\u001b[43mnnz\u001b[49m\u001b[43m,\u001b[49m\u001b[43m \u001b[49m\u001b[43mdtype\u001b[49m\u001b[38;5;241;43m=\u001b[39;49m\u001b[43midx_dtype\u001b[49m\u001b[43m)\u001b[49m\n\u001b[0;32m    530\u001b[0m data \u001b[38;5;241m=\u001b[39m np\u001b[38;5;241m.\u001b[39mempty(nnz, dtype\u001b[38;5;241m=\u001b[39mupcast(\u001b[38;5;28mself\u001b[39m\u001b[38;5;241m.\u001b[39mdtype, other\u001b[38;5;241m.\u001b[39mdtype))\n\u001b[0;32m    532\u001b[0m fn \u001b[38;5;241m=\u001b[39m \u001b[38;5;28mgetattr\u001b[39m(_sparsetools, \u001b[38;5;28mself\u001b[39m\u001b[38;5;241m.\u001b[39mformat \u001b[38;5;241m+\u001b[39m \u001b[38;5;124m'\u001b[39m\u001b[38;5;124m_matmat\u001b[39m\u001b[38;5;124m'\u001b[39m)\n",
      "\u001b[1;31mMemoryError\u001b[0m: Unable to allocate 6.71 GiB for an array with shape (1800695893,) and data type int32"
     ]
    }
   ],
   "source": [
    "recommender.fit(tf, vectors_tokenized)\n",
    "\n",
    "top_k_recommendations = recommender.recommend_top_k_items(df_clean, k=5)"
   ]
  },
  {
   "cell_type": "code",
   "execution_count": null,
   "id": "4d4ae226-22d3-49c1-9e3c-a7cee0c5936e",
   "metadata": {},
   "outputs": [],
   "source": []
  }
 ],
 "metadata": {
  "kernelspec": {
   "display_name": "Python 3 (ipykernel)",
   "language": "python",
   "name": "python3"
  },
  "language_info": {
   "codemirror_mode": {
    "name": "ipython",
    "version": 3
   },
   "file_extension": ".py",
   "mimetype": "text/x-python",
   "name": "python",
   "nbconvert_exporter": "python",
   "pygments_lexer": "ipython3",
   "version": "3.8.17"
  }
 },
 "nbformat": 4,
 "nbformat_minor": 5
}

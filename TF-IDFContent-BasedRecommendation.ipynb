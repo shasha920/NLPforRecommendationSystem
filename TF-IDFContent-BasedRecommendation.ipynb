{
 "cells": [
  {
   "cell_type": "code",
   "execution_count": 29,
   "id": "2c950f87-b10c-4341-857c-ca54d2ae8198",
   "metadata": {
    "tags": []
   },
   "outputs": [
    {
     "name": "stdout",
     "output_type": "stream",
     "text": [
      "Python 3.8.17\n"
     ]
    }
   ],
   "source": [
    "!python --version"
   ]
  },
  {
   "cell_type": "code",
   "execution_count": null,
   "id": "7d9dc256-578e-46ea-b637-d3638dd77078",
   "metadata": {},
   "outputs": [],
   "source": [
    "!pip install recommenders"
   ]
  },
  {
   "cell_type": "code",
   "execution_count": 30,
   "id": "3ed20c03-2c5e-4e5f-a9a0-85ffbc2a7715",
   "metadata": {
    "tags": []
   },
   "outputs": [
    {
     "name": "stdout",
     "output_type": "stream",
     "text": [
      "System version: 3.8.17 (default, Jul  5 2023, 20:44:21) [MSC v.1916 64 bit (AMD64)]\n"
     ]
    }
   ],
   "source": [
    "import sys\n",
    "from recommenders.models.tfidf.tfidf_utils import TfidfRecommender\n",
    "\n",
    "# Print version\n",
    "print(\"System version: {}\".format(sys.version))"
   ]
  },
  {
   "cell_type": "code",
   "execution_count": 31,
   "id": "0db9e8fd-7519-4838-bc2c-b665d920d45f",
   "metadata": {
    "tags": []
   },
   "outputs": [],
   "source": [
    "import pandas as pd"
   ]
  },
  {
   "cell_type": "code",
   "execution_count": 32,
   "id": "eebdc102-9d0a-416f-b456-1f5d51f994a8",
   "metadata": {
    "tags": []
   },
   "outputs": [
    {
     "data": {
      "text/html": [
       "<div>\n",
       "<style scoped>\n",
       "    .dataframe tbody tr th:only-of-type {\n",
       "        vertical-align: middle;\n",
       "    }\n",
       "\n",
       "    .dataframe tbody tr th {\n",
       "        vertical-align: top;\n",
       "    }\n",
       "\n",
       "    .dataframe thead th {\n",
       "        text-align: right;\n",
       "    }\n",
       "</style>\n",
       "<table border=\"1\" class=\"dataframe\">\n",
       "  <thead>\n",
       "    <tr style=\"text-align: right;\">\n",
       "      <th></th>\n",
       "      <th>auction_id</th>\n",
       "      <th>product_id</th>\n",
       "      <th>item</th>\n",
       "      <th>desc</th>\n",
       "      <th>retail</th>\n",
       "      <th>price</th>\n",
       "      <th>finalprice</th>\n",
       "      <th>bidincrement</th>\n",
       "      <th>bidfee</th>\n",
       "      <th>winner</th>\n",
       "      <th>placedbids</th>\n",
       "      <th>freebids</th>\n",
       "      <th>endtime_str</th>\n",
       "      <th>flg_click_only</th>\n",
       "      <th>flg_beginnerauction</th>\n",
       "      <th>flg_fixedprice</th>\n",
       "      <th>flg_endprice</th>\n",
       "    </tr>\n",
       "  </thead>\n",
       "  <tbody>\n",
       "    <tr>\n",
       "      <th>0</th>\n",
       "      <td>86827</td>\n",
       "      <td>10009602</td>\n",
       "      <td>sony-ericsson-s500i-unlocked-mysterious-</td>\n",
       "      <td>Sony Ericsson S500i Unlocked Mysterious Green</td>\n",
       "      <td>499.99</td>\n",
       "      <td>13.35</td>\n",
       "      <td>13.35</td>\n",
       "      <td>15</td>\n",
       "      <td>75</td>\n",
       "      <td>Racer11</td>\n",
       "      <td>26</td>\n",
       "      <td>0</td>\n",
       "      <td>19:52 PDT 09-16-2008</td>\n",
       "      <td>0</td>\n",
       "      <td>0</td>\n",
       "      <td>0</td>\n",
       "      <td>0</td>\n",
       "    </tr>\n",
       "    <tr>\n",
       "      <th>1</th>\n",
       "      <td>87964</td>\n",
       "      <td>10009881</td>\n",
       "      <td>psp-slim-lite-sony-piano-black</td>\n",
       "      <td>PSP Slim &amp; Lite Sony Piano Black</td>\n",
       "      <td>169.99</td>\n",
       "      <td>74.70</td>\n",
       "      <td>74.70</td>\n",
       "      <td>15</td>\n",
       "      <td>75</td>\n",
       "      <td>Cemo23</td>\n",
       "      <td>65</td>\n",
       "      <td>0</td>\n",
       "      <td>11:17 PDT 08-28-2008</td>\n",
       "      <td>0</td>\n",
       "      <td>0</td>\n",
       "      <td>0</td>\n",
       "      <td>0</td>\n",
       "    </tr>\n",
       "    <tr>\n",
       "      <th>2</th>\n",
       "      <td>87965</td>\n",
       "      <td>10009881</td>\n",
       "      <td>psp-slim-lite-sony-piano-black</td>\n",
       "      <td>PSP Slim &amp; Lite Sony Piano Black</td>\n",
       "      <td>169.99</td>\n",
       "      <td>83.10</td>\n",
       "      <td>83.10</td>\n",
       "      <td>15</td>\n",
       "      <td>75</td>\n",
       "      <td>Jacobsonnich</td>\n",
       "      <td>94</td>\n",
       "      <td>0</td>\n",
       "      <td>22:52 PDT 11-07-2008</td>\n",
       "      <td>0</td>\n",
       "      <td>1</td>\n",
       "      <td>0</td>\n",
       "      <td>0</td>\n",
       "    </tr>\n",
       "    <tr>\n",
       "      <th>3</th>\n",
       "      <td>88638</td>\n",
       "      <td>10006115</td>\n",
       "      <td>sony-ericsson-s500i-unlocked-mysterious-</td>\n",
       "      <td>Sony Ericsson S500i Unlocked Mysterious Green</td>\n",
       "      <td>499.99</td>\n",
       "      <td>19.65</td>\n",
       "      <td>19.65</td>\n",
       "      <td>15</td>\n",
       "      <td>75</td>\n",
       "      <td>Mokkis</td>\n",
       "      <td>10</td>\n",
       "      <td>0</td>\n",
       "      <td>22:02 PDT 08-23-2008</td>\n",
       "      <td>0</td>\n",
       "      <td>0</td>\n",
       "      <td>0</td>\n",
       "      <td>0</td>\n",
       "    </tr>\n",
       "    <tr>\n",
       "      <th>4</th>\n",
       "      <td>88639</td>\n",
       "      <td>10006115</td>\n",
       "      <td>sony-ericsson-s500i-unlocked-mysterious-</td>\n",
       "      <td>Sony Ericsson S500i Unlocked Mysterious Green</td>\n",
       "      <td>499.99</td>\n",
       "      <td>47.10</td>\n",
       "      <td>47.10</td>\n",
       "      <td>15</td>\n",
       "      <td>75</td>\n",
       "      <td>Superloeffel</td>\n",
       "      <td>80</td>\n",
       "      <td>0</td>\n",
       "      <td>14:23 PDT 08-24-2008</td>\n",
       "      <td>0</td>\n",
       "      <td>0</td>\n",
       "      <td>0</td>\n",
       "      <td>0</td>\n",
       "    </tr>\n",
       "  </tbody>\n",
       "</table>\n",
       "</div>"
      ],
      "text/plain": [
       "   auction_id  product_id                                      item  \\\n",
       "0       86827    10009602  sony-ericsson-s500i-unlocked-mysterious-   \n",
       "1       87964    10009881            psp-slim-lite-sony-piano-black   \n",
       "2       87965    10009881            psp-slim-lite-sony-piano-black   \n",
       "3       88638    10006115  sony-ericsson-s500i-unlocked-mysterious-   \n",
       "4       88639    10006115  sony-ericsson-s500i-unlocked-mysterious-   \n",
       "\n",
       "                                            desc  retail  price  finalprice  \\\n",
       "0  Sony Ericsson S500i Unlocked Mysterious Green  499.99  13.35       13.35   \n",
       "1               PSP Slim & Lite Sony Piano Black  169.99  74.70       74.70   \n",
       "2               PSP Slim & Lite Sony Piano Black  169.99  83.10       83.10   \n",
       "3  Sony Ericsson S500i Unlocked Mysterious Green  499.99  19.65       19.65   \n",
       "4  Sony Ericsson S500i Unlocked Mysterious Green  499.99  47.10       47.10   \n",
       "\n",
       "   bidincrement  bidfee        winner  placedbids  freebids  \\\n",
       "0            15      75       Racer11          26         0   \n",
       "1            15      75        Cemo23          65         0   \n",
       "2            15      75  Jacobsonnich          94         0   \n",
       "3            15      75        Mokkis          10         0   \n",
       "4            15      75  Superloeffel          80         0   \n",
       "\n",
       "            endtime_str  flg_click_only  flg_beginnerauction  flg_fixedprice  \\\n",
       "0  19:52 PDT 09-16-2008               0                    0               0   \n",
       "1  11:17 PDT 08-28-2008               0                    0               0   \n",
       "2  22:52 PDT 11-07-2008               0                    1               0   \n",
       "3  22:02 PDT 08-23-2008               0                    0               0   \n",
       "4  14:23 PDT 08-24-2008               0                    0               0   \n",
       "\n",
       "   flg_endprice  \n",
       "0             0  \n",
       "1             0  \n",
       "2             0  \n",
       "3             0  \n",
       "4             0  "
      ]
     },
     "execution_count": 32,
     "metadata": {},
     "output_type": "execute_result"
    }
   ],
   "source": [
    "df=pd.read_table('outcomes.tsv')\n",
    "df.head()"
   ]
  },
  {
   "cell_type": "code",
   "execution_count": 33,
   "id": "96a0fe30-745e-4003-998b-85021ec64ba7",
   "metadata": {
    "tags": []
   },
   "outputs": [
    {
     "data": {
      "text/plain": [
       "(121419, 17)"
      ]
     },
     "execution_count": 33,
     "metadata": {},
     "output_type": "execute_result"
    }
   ],
   "source": [
    "df.shape"
   ]
  },
  {
   "cell_type": "code",
   "execution_count": 41,
   "id": "08c7705f-cd97-4e22-9412-219ce05d9275",
   "metadata": {
    "tags": []
   },
   "outputs": [
    {
     "data": {
      "text/plain": [
       "10012220    6658\n",
       "10006485    5893\n",
       "10011707    3283\n",
       "10011706    2365\n",
       "10009318    2297\n",
       "            ... \n",
       "10013942       1\n",
       "10011465       1\n",
       "10009745       1\n",
       "10013288       1\n",
       "10009933       1\n",
       "Name: product_id, Length: 2081, dtype: int64"
      ]
     },
     "execution_count": 41,
     "metadata": {},
     "output_type": "execute_result"
    }
   ],
   "source": [
    "df.product_id.value_counts()"
   ]
  },
  {
   "cell_type": "code",
   "execution_count": 46,
   "id": "2621b2db-bbe3-48b2-87cb-bb55539841df",
   "metadata": {
    "tags": []
   },
   "outputs": [
    {
     "data": {
      "text/html": [
       "<div>\n",
       "<style scoped>\n",
       "    .dataframe tbody tr th:only-of-type {\n",
       "        vertical-align: middle;\n",
       "    }\n",
       "\n",
       "    .dataframe tbody tr th {\n",
       "        vertical-align: top;\n",
       "    }\n",
       "\n",
       "    .dataframe thead th {\n",
       "        text-align: right;\n",
       "    }\n",
       "</style>\n",
       "<table border=\"1\" class=\"dataframe\">\n",
       "  <thead>\n",
       "    <tr style=\"text-align: right;\">\n",
       "      <th></th>\n",
       "      <th>product_id</th>\n",
       "      <th>auction_id</th>\n",
       "      <th>item</th>\n",
       "      <th>desc</th>\n",
       "      <th>retail</th>\n",
       "      <th>price</th>\n",
       "      <th>finalprice</th>\n",
       "      <th>bidincrement</th>\n",
       "      <th>bidfee</th>\n",
       "      <th>winner</th>\n",
       "      <th>placedbids</th>\n",
       "      <th>freebids</th>\n",
       "      <th>endtime_str</th>\n",
       "      <th>flg_click_only</th>\n",
       "      <th>flg_beginnerauction</th>\n",
       "      <th>flg_fixedprice</th>\n",
       "      <th>flg_endprice</th>\n",
       "    </tr>\n",
       "  </thead>\n",
       "  <tbody>\n",
       "    <tr>\n",
       "      <th>0</th>\n",
       "      <td>10001093</td>\n",
       "      <td>178221</td>\n",
       "      <td>cuisinart-cjk-17bc-cordless-electric-jug</td>\n",
       "      <td>Cuisinart CJK-17BC Cordless Electric Jug Kettle</td>\n",
       "      <td>130.0</td>\n",
       "      <td>43.05</td>\n",
       "      <td>43.05</td>\n",
       "      <td>15</td>\n",
       "      <td>75</td>\n",
       "      <td>Midiadisplay</td>\n",
       "      <td>107</td>\n",
       "      <td>0</td>\n",
       "      <td>10:03 PDT 05-15-2009</td>\n",
       "      <td>0</td>\n",
       "      <td>0</td>\n",
       "      <td>0</td>\n",
       "      <td>0</td>\n",
       "    </tr>\n",
       "    <tr>\n",
       "      <th>1</th>\n",
       "      <td>10001577</td>\n",
       "      <td>96718</td>\n",
       "      <td>calvin-klein-ck-one-6-7oz-eau-de-toilett</td>\n",
       "      <td>Calvin Klein CK One 6.7oz Eau De Toilette Spray</td>\n",
       "      <td>50.0</td>\n",
       "      <td>15.90</td>\n",
       "      <td>15.90</td>\n",
       "      <td>15</td>\n",
       "      <td>75</td>\n",
       "      <td>Gorlitz123</td>\n",
       "      <td>21</td>\n",
       "      <td>0</td>\n",
       "      <td>05:12 PDT 08-29-2008</td>\n",
       "      <td>0</td>\n",
       "      <td>0</td>\n",
       "      <td>0</td>\n",
       "      <td>0</td>\n",
       "    </tr>\n",
       "    <tr>\n",
       "      <th>2</th>\n",
       "      <td>10002392</td>\n",
       "      <td>178224</td>\n",
       "      <td>cuisinart-classic-brushed-chrome-toaster</td>\n",
       "      <td>Cuisinart Classic Brushed Chrome Toaster, 2-Slice</td>\n",
       "      <td>110.0</td>\n",
       "      <td>62.85</td>\n",
       "      <td>62.85</td>\n",
       "      <td>15</td>\n",
       "      <td>75</td>\n",
       "      <td>Pinsel7</td>\n",
       "      <td>87</td>\n",
       "      <td>0</td>\n",
       "      <td>08:58 PDT 05-17-2009</td>\n",
       "      <td>0</td>\n",
       "      <td>0</td>\n",
       "      <td>0</td>\n",
       "      <td>0</td>\n",
       "    </tr>\n",
       "    <tr>\n",
       "      <th>3</th>\n",
       "      <td>10002407</td>\n",
       "      <td>94876</td>\n",
       "      <td>300-freebids-voucher</td>\n",
       "      <td>300 FreeBids Voucher</td>\n",
       "      <td>300.0</td>\n",
       "      <td>108.60</td>\n",
       "      <td>0.00</td>\n",
       "      <td>15</td>\n",
       "      <td>75</td>\n",
       "      <td>Daveo140</td>\n",
       "      <td>16</td>\n",
       "      <td>0</td>\n",
       "      <td>21:20 PDT 08-25-2008</td>\n",
       "      <td>0</td>\n",
       "      <td>0</td>\n",
       "      <td>0</td>\n",
       "      <td>1</td>\n",
       "    </tr>\n",
       "    <tr>\n",
       "      <th>4</th>\n",
       "      <td>10002689</td>\n",
       "      <td>96683</td>\n",
       "      <td>lavazza-crema-aroma-coffee-beans-12-x-2-</td>\n",
       "      <td>Lavazza Crema &amp; Aroma Coffee Beans 12 x 2.2lb</td>\n",
       "      <td>330.0</td>\n",
       "      <td>24.15</td>\n",
       "      <td>0.00</td>\n",
       "      <td>15</td>\n",
       "      <td>75</td>\n",
       "      <td>schweihei</td>\n",
       "      <td>51</td>\n",
       "      <td>0</td>\n",
       "      <td>04:32 PDT 08-29-2008</td>\n",
       "      <td>0</td>\n",
       "      <td>0</td>\n",
       "      <td>0</td>\n",
       "      <td>1</td>\n",
       "    </tr>\n",
       "  </tbody>\n",
       "</table>\n",
       "</div>"
      ],
      "text/plain": [
       "   product_id  auction_id                                      item  \\\n",
       "0    10001093      178221  cuisinart-cjk-17bc-cordless-electric-jug   \n",
       "1    10001577       96718  calvin-klein-ck-one-6-7oz-eau-de-toilett   \n",
       "2    10002392      178224  cuisinart-classic-brushed-chrome-toaster   \n",
       "3    10002407       94876                      300-freebids-voucher   \n",
       "4    10002689       96683  lavazza-crema-aroma-coffee-beans-12-x-2-   \n",
       "\n",
       "                                                desc  retail   price  \\\n",
       "0    Cuisinart CJK-17BC Cordless Electric Jug Kettle   130.0   43.05   \n",
       "1    Calvin Klein CK One 6.7oz Eau De Toilette Spray    50.0   15.90   \n",
       "2  Cuisinart Classic Brushed Chrome Toaster, 2-Slice   110.0   62.85   \n",
       "3                               300 FreeBids Voucher   300.0  108.60   \n",
       "4      Lavazza Crema & Aroma Coffee Beans 12 x 2.2lb   330.0   24.15   \n",
       "\n",
       "   finalprice  bidincrement  bidfee        winner  placedbids  freebids  \\\n",
       "0       43.05            15      75  Midiadisplay         107         0   \n",
       "1       15.90            15      75    Gorlitz123          21         0   \n",
       "2       62.85            15      75       Pinsel7          87         0   \n",
       "3        0.00            15      75      Daveo140          16         0   \n",
       "4        0.00            15      75     schweihei          51         0   \n",
       "\n",
       "            endtime_str  flg_click_only  flg_beginnerauction  flg_fixedprice  \\\n",
       "0  10:03 PDT 05-15-2009               0                    0               0   \n",
       "1  05:12 PDT 08-29-2008               0                    0               0   \n",
       "2  08:58 PDT 05-17-2009               0                    0               0   \n",
       "3  21:20 PDT 08-25-2008               0                    0               0   \n",
       "4  04:32 PDT 08-29-2008               0                    0               0   \n",
       "\n",
       "   flg_endprice  \n",
       "0             0  \n",
       "1             0  \n",
       "2             0  \n",
       "3             1  \n",
       "4             1  "
      ]
     },
     "execution_count": 46,
     "metadata": {},
     "output_type": "execute_result"
    }
   ],
   "source": [
    "df1=df.groupby(df.product_id).first().reset_index()\n",
    "df1.head()"
   ]
  },
  {
   "cell_type": "code",
   "execution_count": 47,
   "id": "09d88efe-630d-4bfd-b2e5-d58907ddf439",
   "metadata": {
    "tags": []
   },
   "outputs": [
    {
     "data": {
      "text/plain": [
       "(2081, 17)"
      ]
     },
     "execution_count": 47,
     "metadata": {},
     "output_type": "execute_result"
    }
   ],
   "source": [
    "df1.shape"
   ]
  },
  {
   "cell_type": "code",
   "execution_count": 48,
   "id": "5ff63e5a-0ca4-4fb3-97a4-09b4f793ca21",
   "metadata": {
    "tags": []
   },
   "outputs": [],
   "source": [
    "recommender=TfidfRecommender(id_col='product_id',tokenization_method='scibert')"
   ]
  },
  {
   "cell_type": "code",
   "execution_count": 49,
   "id": "b5e77a80-db97-4450-9af4-0a0871b194c0",
   "metadata": {
    "tags": []
   },
   "outputs": [
    {
     "data": {
      "text/html": [
       "<div>\n",
       "<style scoped>\n",
       "    .dataframe tbody tr th:only-of-type {\n",
       "        vertical-align: middle;\n",
       "    }\n",
       "\n",
       "    .dataframe tbody tr th {\n",
       "        vertical-align: top;\n",
       "    }\n",
       "\n",
       "    .dataframe thead th {\n",
       "        text-align: right;\n",
       "    }\n",
       "</style>\n",
       "<table border=\"1\" class=\"dataframe\">\n",
       "  <thead>\n",
       "    <tr style=\"text-align: right;\">\n",
       "      <th></th>\n",
       "      <th>product_id</th>\n",
       "      <th>auction_id</th>\n",
       "      <th>item</th>\n",
       "      <th>desc</th>\n",
       "      <th>retail</th>\n",
       "      <th>price</th>\n",
       "      <th>finalprice</th>\n",
       "      <th>bidincrement</th>\n",
       "      <th>bidfee</th>\n",
       "      <th>winner</th>\n",
       "      <th>placedbids</th>\n",
       "      <th>freebids</th>\n",
       "      <th>endtime_str</th>\n",
       "      <th>flg_click_only</th>\n",
       "      <th>flg_beginnerauction</th>\n",
       "      <th>flg_fixedprice</th>\n",
       "      <th>flg_endprice</th>\n",
       "      <th>cleaned_text</th>\n",
       "    </tr>\n",
       "  </thead>\n",
       "  <tbody>\n",
       "    <tr>\n",
       "      <th>0</th>\n",
       "      <td>10001093</td>\n",
       "      <td>178221</td>\n",
       "      <td>cuisinart-cjk-17bc-cordless-electric-jug</td>\n",
       "      <td>Cuisinart CJK-17BC Cordless Electric Jug Kettle</td>\n",
       "      <td>130.0</td>\n",
       "      <td>43.05</td>\n",
       "      <td>43.05</td>\n",
       "      <td>15</td>\n",
       "      <td>75</td>\n",
       "      <td>Midiadisplay</td>\n",
       "      <td>107</td>\n",
       "      <td>0</td>\n",
       "      <td>10:03 PDT 05-15-2009</td>\n",
       "      <td>0</td>\n",
       "      <td>0</td>\n",
       "      <td>0</td>\n",
       "      <td>0</td>\n",
       "      <td>Cuisinart CJK17BC Cordless Electric Jug Kettle</td>\n",
       "    </tr>\n",
       "    <tr>\n",
       "      <th>1</th>\n",
       "      <td>10001577</td>\n",
       "      <td>96718</td>\n",
       "      <td>calvin-klein-ck-one-6-7oz-eau-de-toilett</td>\n",
       "      <td>Calvin Klein CK One 6.7oz Eau De Toilette Spray</td>\n",
       "      <td>50.0</td>\n",
       "      <td>15.90</td>\n",
       "      <td>15.90</td>\n",
       "      <td>15</td>\n",
       "      <td>75</td>\n",
       "      <td>Gorlitz123</td>\n",
       "      <td>21</td>\n",
       "      <td>0</td>\n",
       "      <td>05:12 PDT 08-29-2008</td>\n",
       "      <td>0</td>\n",
       "      <td>0</td>\n",
       "      <td>0</td>\n",
       "      <td>0</td>\n",
       "      <td>Calvin Klein CK One 67oz Eau De Toilette Spray</td>\n",
       "    </tr>\n",
       "    <tr>\n",
       "      <th>2</th>\n",
       "      <td>10002392</td>\n",
       "      <td>178224</td>\n",
       "      <td>cuisinart-classic-brushed-chrome-toaster</td>\n",
       "      <td>Cuisinart Classic Brushed Chrome Toaster, 2-Slice</td>\n",
       "      <td>110.0</td>\n",
       "      <td>62.85</td>\n",
       "      <td>62.85</td>\n",
       "      <td>15</td>\n",
       "      <td>75</td>\n",
       "      <td>Pinsel7</td>\n",
       "      <td>87</td>\n",
       "      <td>0</td>\n",
       "      <td>08:58 PDT 05-17-2009</td>\n",
       "      <td>0</td>\n",
       "      <td>0</td>\n",
       "      <td>0</td>\n",
       "      <td>0</td>\n",
       "      <td>Cuisinart Classic Brushed Chrome Toaster 2Slice</td>\n",
       "    </tr>\n",
       "    <tr>\n",
       "      <th>3</th>\n",
       "      <td>10002407</td>\n",
       "      <td>94876</td>\n",
       "      <td>300-freebids-voucher</td>\n",
       "      <td>300 FreeBids Voucher</td>\n",
       "      <td>300.0</td>\n",
       "      <td>108.60</td>\n",
       "      <td>0.00</td>\n",
       "      <td>15</td>\n",
       "      <td>75</td>\n",
       "      <td>Daveo140</td>\n",
       "      <td>16</td>\n",
       "      <td>0</td>\n",
       "      <td>21:20 PDT 08-25-2008</td>\n",
       "      <td>0</td>\n",
       "      <td>0</td>\n",
       "      <td>0</td>\n",
       "      <td>1</td>\n",
       "      <td>300 FreeBids Voucher</td>\n",
       "    </tr>\n",
       "    <tr>\n",
       "      <th>4</th>\n",
       "      <td>10002689</td>\n",
       "      <td>96683</td>\n",
       "      <td>lavazza-crema-aroma-coffee-beans-12-x-2-</td>\n",
       "      <td>Lavazza Crema &amp; Aroma Coffee Beans 12 x 2.2lb</td>\n",
       "      <td>330.0</td>\n",
       "      <td>24.15</td>\n",
       "      <td>0.00</td>\n",
       "      <td>15</td>\n",
       "      <td>75</td>\n",
       "      <td>schweihei</td>\n",
       "      <td>51</td>\n",
       "      <td>0</td>\n",
       "      <td>04:32 PDT 08-29-2008</td>\n",
       "      <td>0</td>\n",
       "      <td>0</td>\n",
       "      <td>0</td>\n",
       "      <td>1</td>\n",
       "      <td>Lavazza Crema  Aroma Coffee Beans 12 x 22lb</td>\n",
       "    </tr>\n",
       "  </tbody>\n",
       "</table>\n",
       "</div>"
      ],
      "text/plain": [
       "   product_id  auction_id                                      item  \\\n",
       "0    10001093      178221  cuisinart-cjk-17bc-cordless-electric-jug   \n",
       "1    10001577       96718  calvin-klein-ck-one-6-7oz-eau-de-toilett   \n",
       "2    10002392      178224  cuisinart-classic-brushed-chrome-toaster   \n",
       "3    10002407       94876                      300-freebids-voucher   \n",
       "4    10002689       96683  lavazza-crema-aroma-coffee-beans-12-x-2-   \n",
       "\n",
       "                                                desc  retail   price  \\\n",
       "0    Cuisinart CJK-17BC Cordless Electric Jug Kettle   130.0   43.05   \n",
       "1    Calvin Klein CK One 6.7oz Eau De Toilette Spray    50.0   15.90   \n",
       "2  Cuisinart Classic Brushed Chrome Toaster, 2-Slice   110.0   62.85   \n",
       "3                               300 FreeBids Voucher   300.0  108.60   \n",
       "4      Lavazza Crema & Aroma Coffee Beans 12 x 2.2lb   330.0   24.15   \n",
       "\n",
       "   finalprice  bidincrement  bidfee        winner  placedbids  freebids  \\\n",
       "0       43.05            15      75  Midiadisplay         107         0   \n",
       "1       15.90            15      75    Gorlitz123          21         0   \n",
       "2       62.85            15      75       Pinsel7          87         0   \n",
       "3        0.00            15      75      Daveo140          16         0   \n",
       "4        0.00            15      75     schweihei          51         0   \n",
       "\n",
       "            endtime_str  flg_click_only  flg_beginnerauction  flg_fixedprice  \\\n",
       "0  10:03 PDT 05-15-2009               0                    0               0   \n",
       "1  05:12 PDT 08-29-2008               0                    0               0   \n",
       "2  08:58 PDT 05-17-2009               0                    0               0   \n",
       "3  21:20 PDT 08-25-2008               0                    0               0   \n",
       "4  04:32 PDT 08-29-2008               0                    0               0   \n",
       "\n",
       "   flg_endprice                                     cleaned_text  \n",
       "0             0   Cuisinart CJK17BC Cordless Electric Jug Kettle  \n",
       "1             0   Calvin Klein CK One 67oz Eau De Toilette Spray  \n",
       "2             0  Cuisinart Classic Brushed Chrome Toaster 2Slice  \n",
       "3             1                             300 FreeBids Voucher  \n",
       "4             1      Lavazza Crema  Aroma Coffee Beans 12 x 22lb  "
      ]
     },
     "execution_count": 49,
     "metadata": {},
     "output_type": "execute_result"
    }
   ],
   "source": [
    "cols_to_clean=['desc']\n",
    "clean_col='cleaned_text'\n",
    "df_clean=recommender.clean_dataframe(df1,cols_to_clean,clean_col)\n",
    "df_clean.head()"
   ]
  },
  {
   "cell_type": "code",
   "execution_count": 50,
   "id": "03a89b1a-aff5-499e-b315-15523ce6cecc",
   "metadata": {
    "tags": []
   },
   "outputs": [
    {
     "data": {
      "text/plain": [
       "(2081, 18)"
      ]
     },
     "execution_count": 50,
     "metadata": {},
     "output_type": "execute_result"
    }
   ],
   "source": [
    "df_clean.shape"
   ]
  },
  {
   "cell_type": "code",
   "execution_count": 51,
   "id": "4cae30d4-dca8-403e-b26e-775672800141",
   "metadata": {
    "tags": []
   },
   "outputs": [
    {
     "name": "stdout",
     "output_type": "stream",
     "text": [
      "Cuisinart CJK17BC Cordless Electric Jug Kettle\n"
     ]
    }
   ],
   "source": [
    "print(df_clean[clean_col][0][:1000])"
   ]
  },
  {
   "cell_type": "code",
   "execution_count": 69,
   "id": "a30fac55-a9af-4d66-aa30-98b8970ee29b",
   "metadata": {
    "tags": []
   },
   "outputs": [],
   "source": [
    "tf, vectors_tokenized = recommender.tokenize_text(df_clean, text_col=clean_col)"
   ]
  },
  {
   "cell_type": "code",
   "execution_count": 70,
   "id": "186e1d62-9df9-4392-9adf-b61969b15bbb",
   "metadata": {
    "tags": []
   },
   "outputs": [],
   "source": [
    "recommender.fit(tf, vectors_tokenized)\n",
    "\n",
    "top_k_recommendations = recommender.recommend_top_k_items(df_clean, k=5)"
   ]
  },
  {
   "cell_type": "code",
   "execution_count": 71,
   "id": "4d4ae226-22d3-49c1-9e3c-a7cee0c5936e",
   "metadata": {
    "tags": []
   },
   "outputs": [
    {
     "data": {
      "text/html": [
       "<div>\n",
       "<style scoped>\n",
       "    .dataframe tbody tr th:only-of-type {\n",
       "        vertical-align: middle;\n",
       "    }\n",
       "\n",
       "    .dataframe tbody tr th {\n",
       "        vertical-align: top;\n",
       "    }\n",
       "\n",
       "    .dataframe thead th {\n",
       "        text-align: right;\n",
       "    }\n",
       "</style>\n",
       "<table border=\"1\" class=\"dataframe\">\n",
       "  <thead>\n",
       "    <tr style=\"text-align: right;\">\n",
       "      <th></th>\n",
       "      <th>product_id</th>\n",
       "      <th>rec_rank</th>\n",
       "      <th>rec_score</th>\n",
       "      <th>rec_product_id</th>\n",
       "    </tr>\n",
       "  </thead>\n",
       "  <tbody>\n",
       "    <tr>\n",
       "      <th>0</th>\n",
       "      <td>10001093</td>\n",
       "      <td>1</td>\n",
       "      <td>0.316381</td>\n",
       "      <td>10011173</td>\n",
       "    </tr>\n",
       "    <tr>\n",
       "      <th>1</th>\n",
       "      <td>10001093</td>\n",
       "      <td>2</td>\n",
       "      <td>0.288073</td>\n",
       "      <td>10015115</td>\n",
       "    </tr>\n",
       "    <tr>\n",
       "      <th>2</th>\n",
       "      <td>10001093</td>\n",
       "      <td>3</td>\n",
       "      <td>0.196876</td>\n",
       "      <td>10013238</td>\n",
       "    </tr>\n",
       "    <tr>\n",
       "      <th>3</th>\n",
       "      <td>10001093</td>\n",
       "      <td>4</td>\n",
       "      <td>0.191393</td>\n",
       "      <td>10014570</td>\n",
       "    </tr>\n",
       "    <tr>\n",
       "      <th>4</th>\n",
       "      <td>10001093</td>\n",
       "      <td>5</td>\n",
       "      <td>0.172641</td>\n",
       "      <td>10012253</td>\n",
       "    </tr>\n",
       "    <tr>\n",
       "      <th>...</th>\n",
       "      <td>...</td>\n",
       "      <td>...</td>\n",
       "      <td>...</td>\n",
       "      <td>...</td>\n",
       "    </tr>\n",
       "    <tr>\n",
       "      <th>10400</th>\n",
       "      <td>10015477</td>\n",
       "      <td>1</td>\n",
       "      <td>0.114375</td>\n",
       "      <td>10010716</td>\n",
       "    </tr>\n",
       "    <tr>\n",
       "      <th>10401</th>\n",
       "      <td>10015477</td>\n",
       "      <td>2</td>\n",
       "      <td>0.104354</td>\n",
       "      <td>10011038</td>\n",
       "    </tr>\n",
       "    <tr>\n",
       "      <th>10402</th>\n",
       "      <td>10015477</td>\n",
       "      <td>3</td>\n",
       "      <td>0.100872</td>\n",
       "      <td>10014797</td>\n",
       "    </tr>\n",
       "    <tr>\n",
       "      <th>10403</th>\n",
       "      <td>10015477</td>\n",
       "      <td>4</td>\n",
       "      <td>0.100702</td>\n",
       "      <td>10013992</td>\n",
       "    </tr>\n",
       "    <tr>\n",
       "      <th>10404</th>\n",
       "      <td>10015477</td>\n",
       "      <td>5</td>\n",
       "      <td>0.096199</td>\n",
       "      <td>10010435</td>\n",
       "    </tr>\n",
       "  </tbody>\n",
       "</table>\n",
       "<p>10405 rows × 4 columns</p>\n",
       "</div>"
      ],
      "text/plain": [
       "       product_id  rec_rank  rec_score  rec_product_id\n",
       "0        10001093         1   0.316381        10011173\n",
       "1        10001093         2   0.288073        10015115\n",
       "2        10001093         3   0.196876        10013238\n",
       "3        10001093         4   0.191393        10014570\n",
       "4        10001093         5   0.172641        10012253\n",
       "...           ...       ...        ...             ...\n",
       "10400    10015477         1   0.114375        10010716\n",
       "10401    10015477         2   0.104354        10011038\n",
       "10402    10015477         3   0.100872        10014797\n",
       "10403    10015477         4   0.100702        10013992\n",
       "10404    10015477         5   0.096199        10010435\n",
       "\n",
       "[10405 rows x 4 columns]"
      ]
     },
     "execution_count": 71,
     "metadata": {},
     "output_type": "execute_result"
    }
   ],
   "source": [
    "top_k_recommendations"
   ]
  },
  {
   "cell_type": "code",
   "execution_count": 72,
   "id": "ec36fe95-f3ee-4414-add2-8389a2d5dee9",
   "metadata": {
    "tags": []
   },
   "outputs": [
    {
     "name": "stdout",
     "output_type": "stream",
     "text": [
      "Number of recommended product for 10001093: 2080\n"
     ]
    }
   ],
   "source": [
    "full_rec_list=recommender.recommendations\n",
    "product_of_interest=10001093\n",
    "print('Number of recommended product for ' + str(product_of_interest) + ': ' + str(len(full_rec_list[product_of_interest])))"
   ]
  },
  {
   "cell_type": "code",
   "execution_count": 73,
   "id": "cdf83452-2397-4c40-86cf-752e794ca4d0",
   "metadata": {
    "tags": []
   },
   "outputs": [
    {
     "name": "stdout",
     "output_type": "stream",
     "text": [
      "['cu', 'isi', 'nar', 'cj', '17', 'bc', 'cord', 'electric', 'jug', 'ket']\n"
     ]
    }
   ],
   "source": [
    "tokens = recommender.get_tokens()\n",
    "print(list(tokens.keys())[:10])"
   ]
  },
  {
   "cell_type": "code",
   "execution_count": 74,
   "id": "de55397a-988a-49d3-901a-15e09442b2cc",
   "metadata": {
    "tags": []
   },
   "outputs": [
    {
     "name": "stdout",
     "output_type": "stream",
     "text": [
      "['a', 'about', 'above', 'across', 'after', 'afterwards', 'again', 'against', 'all', 'almost']\n"
     ]
    }
   ],
   "source": [
    "stop_words=list(recommender.get_stop_words())\n",
    "stop_words.sort()\n",
    "print(stop_words[:10])"
   ]
  },
  {
   "cell_type": "code",
   "execution_count": 78,
   "id": "8ab02348-1c00-474c-8a9e-80dbe321f4fd",
   "metadata": {
    "tags": []
   },
   "outputs": [
    {
     "data": {
      "text/html": [
       "<div>\n",
       "<style scoped>\n",
       "    .dataframe tbody tr th:only-of-type {\n",
       "        vertical-align: middle;\n",
       "    }\n",
       "\n",
       "    .dataframe tbody tr th {\n",
       "        vertical-align: top;\n",
       "    }\n",
       "\n",
       "    .dataframe thead th {\n",
       "        text-align: right;\n",
       "    }\n",
       "</style>\n",
       "<table border=\"1\" class=\"dataframe\">\n",
       "  <thead>\n",
       "    <tr style=\"text-align: right;\">\n",
       "      <th></th>\n",
       "      <th>rank</th>\n",
       "      <th>similarity_score</th>\n",
       "      <th>item</th>\n",
       "      <th>desc</th>\n",
       "    </tr>\n",
       "  </thead>\n",
       "  <tbody>\n",
       "    <tr>\n",
       "      <th>0</th>\n",
       "      <td>1</td>\n",
       "      <td>0.316381</td>\n",
       "      <td>cuisinart-cordless-automatic-electric-ke</td>\n",
       "      <td>Cuisinart Cordless Automatic Electric Kettle</td>\n",
       "    </tr>\n",
       "    <tr>\n",
       "      <th>1</th>\n",
       "      <td>2</td>\n",
       "      <td>0.288073</td>\n",
       "      <td>cuisinart-red-teakettle</td>\n",
       "      <td>Cuisinart Red Teakettle</td>\n",
       "    </tr>\n",
       "    <tr>\n",
       "      <th>2</th>\n",
       "      <td>3</td>\n",
       "      <td>0.196876</td>\n",
       "      <td>cuisinart-cleanwater-filtration-system</td>\n",
       "      <td>Cuisinart CleanWater Filtration System</td>\n",
       "    </tr>\n",
       "    <tr>\n",
       "      <th>3</th>\n",
       "      <td>4</td>\n",
       "      <td>0.191393</td>\n",
       "      <td>cuisinart-white-hand-blender</td>\n",
       "      <td>Cuisinart White Hand Blender</td>\n",
       "    </tr>\n",
       "    <tr>\n",
       "      <th>4</th>\n",
       "      <td>5</td>\n",
       "      <td>0.172641</td>\n",
       "      <td>cuisinart-mini-prep-plus-4-cup-food-proc</td>\n",
       "      <td>Cuisinart Mini-Prep Plus 4-Cup Food Processor</td>\n",
       "    </tr>\n",
       "  </tbody>\n",
       "</table>\n",
       "</div>"
      ],
      "text/plain": [
       "   rank  similarity_score                                      item  \\\n",
       "0     1          0.316381  cuisinart-cordless-automatic-electric-ke   \n",
       "1     2          0.288073                   cuisinart-red-teakettle   \n",
       "2     3          0.196876    cuisinart-cleanwater-filtration-system   \n",
       "3     4          0.191393              cuisinart-white-hand-blender   \n",
       "4     5          0.172641  cuisinart-mini-prep-plus-4-cup-food-proc   \n",
       "\n",
       "                                            desc  \n",
       "0   Cuisinart Cordless Automatic Electric Kettle  \n",
       "1                        Cuisinart Red Teakettle  \n",
       "2         Cuisinart CleanWater Filtration System  \n",
       "3                   Cuisinart White Hand Blender  \n",
       "4  Cuisinart Mini-Prep Plus 4-Cup Food Processor  "
      ]
     },
     "execution_count": 78,
     "metadata": {},
     "output_type": "execute_result"
    }
   ],
   "source": [
    "cols_to_keep=['item','desc']\n",
    "recommender.get_top_k_recommendations(df1,product_of_interest,cols_to_keep)"
   ]
  },
  {
   "cell_type": "code",
   "execution_count": null,
   "id": "bafd5436-d13a-4da6-8636-99ae93b7f8bb",
   "metadata": {},
   "outputs": [],
   "source": []
  }
 ],
 "metadata": {
  "kernelspec": {
   "display_name": "Python 3 (ipykernel)",
   "language": "python",
   "name": "python3"
  },
  "language_info": {
   "codemirror_mode": {
    "name": "ipython",
    "version": 3
   },
   "file_extension": ".py",
   "mimetype": "text/x-python",
   "name": "python",
   "nbconvert_exporter": "python",
   "pygments_lexer": "ipython3",
   "version": "3.8.17"
  }
 },
 "nbformat": 4,
 "nbformat_minor": 5
}

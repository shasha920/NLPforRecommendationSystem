{
 "cells": [
  {
   "cell_type": "code",
   "execution_count": 4,
   "id": "8f6e3713-0003-4592-858e-dcf5060332b5",
   "metadata": {
    "tags": []
   },
   "outputs": [
    {
     "name": "stdout",
     "output_type": "stream",
     "text": [
      "System version:3.8.17 (default, Jul  5 2023, 20:44:21) [MSC v.1916 64 bit (AMD64)]\n",
      "Tensorflow version:2.6.1\n"
     ]
    }
   ],
   "source": [
    "import sys\n",
    "import os\n",
    "import numpy as np\n",
    "import zipfile\n",
    "from tqdm import tqdm\n",
    "import scrapbook as sb\n",
    "from tempfile import TemporaryDirectory\n",
    "import tensorflow as tf\n",
    "tf.get_logger().setLevel('ERROR') # only show error messages\n",
    "\n",
    "from recommenders.models.deeprec.deeprec_utils import download_deeprec_resources\n",
    "from recommenders.models.newsrec.newsrec_utils import prepare_hparams\n",
    "from recommenders.models.newsrec.models.lstur import LSTURModel\n",
    "from recommenders.models.newsrec.io.mind_iterator import MINDIterator\n",
    "from recommenders.models.newsrec.newsrec_utils import get_mind_data_set\n",
    "\n",
    "print(\"System version:{}\".format(sys.version))\n",
    "print(\"Tensorflow version:{}\".format(tf.__version__))"
   ]
  },
  {
   "cell_type": "code",
   "execution_count": 13,
   "id": "f80592bc-2c1a-41ae-a22f-b3c14cbc5d59",
   "metadata": {
    "tags": []
   },
   "outputs": [],
   "source": [
    "import numpy as np"
   ]
  },
  {
   "cell_type": "code",
   "execution_count": 3,
   "id": "2973933e-9e55-4c9c-b8c8-e2a97af6e620",
   "metadata": {
    "tags": []
   },
   "outputs": [
    {
     "name": "stdout",
     "output_type": "stream",
     "text": [
      "Collecting keras==2.6\n",
      "  Downloading keras-2.6.0-py2.py3-none-any.whl (1.3 MB)\n",
      "     ---------------------------------------- 0.0/1.3 MB ? eta -:--:--\n",
      "     ------- -------------------------------- 0.2/1.3 MB 5.0 MB/s eta 0:00:01\n",
      "     ------------- -------------------------- 0.5/1.3 MB 4.7 MB/s eta 0:00:01\n",
      "     --------------------- ------------------ 0.7/1.3 MB 4.9 MB/s eta 0:00:01\n",
      "     ------------------------------- -------- 1.0/1.3 MB 5.4 MB/s eta 0:00:01\n",
      "     ---------------------------------------  1.3/1.3 MB 5.8 MB/s eta 0:00:01\n",
      "     ---------------------------------------- 1.3/1.3 MB 5.5 MB/s eta 0:00:00\n",
      "Installing collected packages: keras\n",
      "  Attempting uninstall: keras\n",
      "    Found existing installation: keras 2.13.1\n",
      "    Uninstalling keras-2.13.1:\n",
      "      Successfully uninstalled keras-2.13.1\n",
      "Successfully installed keras-2.6.0\n"
     ]
    },
    {
     "name": "stderr",
     "output_type": "stream",
     "text": [
      "WARNING: Ignoring invalid distribution -umpy (c:\\users\\super\\appdata\\roaming\\python\\python38\\site-packages)\n",
      "WARNING: Ignoring invalid distribution -umpy (c:\\users\\super\\appdata\\roaming\\python\\python38\\site-packages)\n",
      "WARNING: Ignoring invalid distribution -rotobuf (c:\\users\\super\\anaconda3\\envs\\python38\\lib\\site-packages)\n",
      "WARNING: Ignoring invalid distribution -umpy (c:\\users\\super\\appdata\\roaming\\python\\python38\\site-packages)\n",
      "WARNING: Ignoring invalid distribution -rotobuf (c:\\users\\super\\anaconda3\\envs\\python38\\lib\\site-packages)\n",
      "    WARNING: Ignoring invalid distribution -umpy (c:\\users\\super\\appdata\\roaming\\python\\python38\\site-packages)\n",
      "ERROR: pip's dependency resolver does not currently take into account all the packages that are installed. This behaviour is the source of the following dependency conflicts.\n",
      "tensorflow 2.6.1 requires numpy~=1.19.2, but you have numpy 1.20.3 which is incompatible.\n",
      "WARNING: Ignoring invalid distribution -umpy (c:\\users\\super\\appdata\\roaming\\python\\python38\\site-packages)\n",
      "WARNING: Ignoring invalid distribution -umpy (c:\\users\\super\\appdata\\roaming\\python\\python38\\site-packages)\n",
      "WARNING: Ignoring invalid distribution -umpy (c:\\users\\super\\appdata\\roaming\\python\\python38\\site-packages)\n"
     ]
    }
   ],
   "source": [
    "!pip install keras==2.6"
   ]
  },
  {
   "cell_type": "code",
   "execution_count": 5,
   "id": "d1515844-a29f-4b1f-8df9-214211801484",
   "metadata": {
    "tags": []
   },
   "outputs": [
    {
     "name": "stdout",
     "output_type": "stream",
     "text": [
      "Requirement already satisfied: protobuf==3.20.* in c:\\users\\super\\anaconda3\\envs\\python38\\lib\\site-packages (3.20.3)"
     ]
    },
    {
     "name": "stderr",
     "output_type": "stream",
     "text": [
      "WARNING: Ignoring invalid distribution -umpy (c:\\users\\super\\appdata\\roaming\\python\\python38\\site-packages)\n",
      "WARNING: Ignoring invalid distribution -umpy (c:\\users\\super\\appdata\\roaming\\python\\python38\\site-packages)\n",
      "WARNING: Ignoring invalid distribution -rotobuf (c:\\users\\super\\anaconda3\\envs\\python38\\lib\\site-packages)\n",
      "WARNING: Ignoring invalid distribution -umpy (c:\\users\\super\\appdata\\roaming\\python\\python38\\site-packages)\n",
      "WARNING: Ignoring invalid distribution -rotobuf (c:\\users\\super\\anaconda3\\envs\\python38\\lib\\site-packages)\n",
      "WARNING: Ignoring invalid distribution -umpy (c:\\users\\super\\appdata\\roaming\\python\\python38\\site-packages)\n",
      "WARNING: Ignoring invalid distribution -umpy (c:\\users\\super\\appdata\\roaming\\python\\python38\\site-packages)\n",
      "WARNING: Ignoring invalid distribution -umpy (c:\\users\\super\\appdata\\roaming\\python\\python38\\site-packages)\n"
     ]
    },
    {
     "name": "stdout",
     "output_type": "stream",
     "text": [
      "\n"
     ]
    }
   ],
   "source": [
    "!pip install protobuf==3.20.* --user"
   ]
  },
  {
   "cell_type": "code",
   "execution_count": 3,
   "id": "a6903f34-bf78-4237-84f8-8ddfc6d89909",
   "metadata": {
    "tags": []
   },
   "outputs": [
    {
     "name": "stdout",
     "output_type": "stream",
     "text": [
      "Collecting scrapbook\n",
      "  Downloading scrapbook-0.5.0-py3-none-any.whl (34 kB)\n",
      "Requirement already satisfied: pandas in c:\\users\\super\\anaconda3\\envs\\python38\\lib\\site-packages (from scrapbook) (1.5.3)\n",
      "Collecting papermill (from scrapbook)\n",
      "  Downloading papermill-2.4.0-py3-none-any.whl (38 kB)\n",
      "Requirement already satisfied: jsonschema in c:\\users\\super\\anaconda3\\envs\\python38\\lib\\site-packages (from scrapbook) (4.17.3)\n",
      "Requirement already satisfied: ipython in c:\\users\\super\\anaconda3\\envs\\python38\\lib\\site-packages (from scrapbook) (8.12.2)\n",
      "Collecting pyarrow (from scrapbook)\n",
      "  Obtaining dependency information for pyarrow from https://files.pythonhosted.org/packages/17/65/47c519fd198713631ca004e38ae48e244a4f4708ba32691caa54b36508a4/pyarrow-13.0.0-cp38-cp38-win_amd64.whl.metadata\n",
      "  Downloading pyarrow-13.0.0-cp38-cp38-win_amd64.whl.metadata (3.1 kB)\n",
      "Requirement already satisfied: backcall in c:\\users\\super\\anaconda3\\envs\\python38\\lib\\site-packages (from ipython->scrapbook) (0.2.0)\n",
      "Requirement already satisfied: decorator in c:\\users\\super\\anaconda3\\envs\\python38\\lib\\site-packages (from ipython->scrapbook) (5.1.1)\n",
      "Requirement already satisfied: jedi>=0.16 in c:\\users\\super\\anaconda3\\envs\\python38\\lib\\site-packages (from ipython->scrapbook) (0.18.1)\n",
      "Requirement already satisfied: matplotlib-inline in c:\\users\\super\\anaconda3\\envs\\python38\\lib\\site-packages (from ipython->scrapbook) (0.1.6)\n",
      "Requirement already satisfied: pickleshare in c:\\users\\super\\anaconda3\\envs\\python38\\lib\\site-packages (from ipython->scrapbook) (0.7.5)\n",
      "Requirement already satisfied: prompt-toolkit!=3.0.37,<3.1.0,>=3.0.30 in c:\\users\\super\\anaconda3\\envs\\python38\\lib\\site-packages (from ipython->scrapbook) (3.0.36)\n",
      "Requirement already satisfied: pygments>=2.4.0 in c:\\users\\super\\anaconda3\\envs\\python38\\lib\\site-packages (from ipython->scrapbook) (2.15.1)\n",
      "Requirement already satisfied: stack-data in c:\\users\\super\\anaconda3\\envs\\python38\\lib\\site-packages (from ipython->scrapbook) (0.2.0)\n",
      "Requirement already satisfied: traitlets>=5 in c:\\users\\super\\anaconda3\\envs\\python38\\lib\\site-packages (from ipython->scrapbook) (5.7.1)\n",
      "Requirement already satisfied: typing-extensions in c:\\users\\super\\anaconda3\\envs\\python38\\lib\\site-packages (from ipython->scrapbook) (4.7.1)\n",
      "Requirement already satisfied: colorama in c:\\users\\super\\anaconda3\\envs\\python38\\lib\\site-packages (from ipython->scrapbook) (0.4.6)\n",
      "Requirement already satisfied: attrs>=17.4.0 in c:\\users\\super\\anaconda3\\envs\\python38\\lib\\site-packages (from jsonschema->scrapbook) (22.1.0)\n",
      "Requirement already satisfied: importlib-resources>=1.4.0 in c:\\users\\super\\anaconda3\\envs\\python38\\lib\\site-packages (from jsonschema->scrapbook) (5.2.0)\n",
      "Requirement already satisfied: pkgutil-resolve-name>=1.3.10 in c:\\users\\super\\anaconda3\\envs\\python38\\lib\\site-packages (from jsonschema->scrapbook) (1.3.10)\n",
      "Requirement already satisfied: pyrsistent!=0.17.0,!=0.17.1,!=0.17.2,>=0.14.0 in c:\\users\\super\\anaconda3\\envs\\python38\\lib\\site-packages (from jsonschema->scrapbook) (0.18.0)\n",
      "Requirement already satisfied: python-dateutil>=2.8.1 in c:\\users\\super\\anaconda3\\envs\\python38\\lib\\site-packages (from pandas->scrapbook) (2.8.2)\n",
      "Requirement already satisfied: pytz>=2020.1 in c:\\users\\super\\anaconda3\\envs\\python38\\lib\\site-packages (from pandas->scrapbook) (2022.7)\n",
      "Requirement already satisfied: numpy>=1.20.3 in c:\\users\\super\\anaconda3\\envs\\python38\\lib\\site-packages (from pandas->scrapbook) (1.24.4)\n",
      "Collecting ansiwrap (from papermill->scrapbook)\n",
      "  Downloading ansiwrap-0.8.4-py2.py3-none-any.whl (8.5 kB)\n",
      "Requirement already satisfied: click in c:\\users\\super\\anaconda3\\envs\\python38\\lib\\site-packages (from papermill->scrapbook) (8.1.7)\n",
      "Requirement already satisfied: pyyaml in c:\\users\\super\\anaconda3\\envs\\python38\\lib\\site-packages (from papermill->scrapbook) (5.4.1)\n",
      "Requirement already satisfied: nbformat>=5.1.2 in c:\\users\\super\\anaconda3\\envs\\python38\\lib\\site-packages (from papermill->scrapbook) (5.7.0)\n",
      "Requirement already satisfied: nbclient>=0.2.0 in c:\\users\\super\\anaconda3\\envs\\python38\\lib\\site-packages (from papermill->scrapbook) (0.5.13)\n",
      "Requirement already satisfied: tqdm>=4.32.2 in c:\\users\\super\\anaconda3\\envs\\python38\\lib\\site-packages (from papermill->scrapbook) (4.66.1)\n",
      "Requirement already satisfied: requests in c:\\users\\super\\anaconda3\\envs\\python38\\lib\\site-packages (from papermill->scrapbook) (2.31.0)\n",
      "Requirement already satisfied: entrypoints in c:\\users\\super\\anaconda3\\envs\\python38\\lib\\site-packages (from papermill->scrapbook) (0.4)\n",
      "Collecting tenacity (from papermill->scrapbook)\n",
      "  Obtaining dependency information for tenacity from https://files.pythonhosted.org/packages/f4/f1/990741d5bb2487d529d20a433210ffa136a367751e454214013b441c4575/tenacity-8.2.3-py3-none-any.whl.metadata\n",
      "  Downloading tenacity-8.2.3-py3-none-any.whl.metadata (1.0 kB)\n",
      "Requirement already satisfied: zipp>=3.1.0 in c:\\users\\super\\anaconda3\\envs\\python38\\lib\\site-packages (from importlib-resources>=1.4.0->jsonschema->scrapbook) (3.11.0)\n",
      "Requirement already satisfied: parso<0.9.0,>=0.8.0 in c:\\users\\super\\anaconda3\\envs\\python38\\lib\\site-packages (from jedi>=0.16->ipython->scrapbook) (0.8.3)\n",
      "Requirement already satisfied: jupyter-client>=6.1.5 in c:\\users\\super\\anaconda3\\envs\\python38\\lib\\site-packages (from nbclient>=0.2.0->papermill->scrapbook) (7.4.9)\n",
      "Requirement already satisfied: nest-asyncio in c:\\users\\super\\anaconda3\\envs\\python38\\lib\\site-packages (from nbclient>=0.2.0->papermill->scrapbook) (1.5.6)\n",
      "Requirement already satisfied: fastjsonschema in c:\\users\\super\\anaconda3\\envs\\python38\\lib\\site-packages (from nbformat>=5.1.2->papermill->scrapbook) (2.16.2)\n",
      "Requirement already satisfied: jupyter-core in c:\\users\\super\\anaconda3\\envs\\python38\\lib\\site-packages (from nbformat>=5.1.2->papermill->scrapbook) (5.3.0)\n",
      "Requirement already satisfied: wcwidth in c:\\users\\super\\anaconda3\\envs\\python38\\lib\\site-packages (from prompt-toolkit!=3.0.37,<3.1.0,>=3.0.30->ipython->scrapbook) (0.2.5)\n",
      "Requirement already satisfied: six>=1.5 in c:\\users\\super\\anaconda3\\envs\\python38\\lib\\site-packages (from python-dateutil>=2.8.1->pandas->scrapbook) (1.16.0)\n",
      "Collecting textwrap3>=0.9.2 (from ansiwrap->papermill->scrapbook)\n",
      "  Downloading textwrap3-0.9.2-py2.py3-none-any.whl (12 kB)\n",
      "Requirement already satisfied: charset-normalizer<4,>=2 in c:\\users\\super\\anaconda3\\envs\\python38\\lib\\site-packages (from requests->papermill->scrapbook) (2.0.4)\n",
      "Requirement already satisfied: idna<4,>=2.5 in c:\\users\\super\\anaconda3\\envs\\python38\\lib\\site-packages (from requests->papermill->scrapbook) (3.4)\n",
      "Requirement already satisfied: urllib3<3,>=1.21.1 in c:\\users\\super\\anaconda3\\envs\\python38\\lib\\site-packages (from requests->papermill->scrapbook) (1.26.16)\n",
      "Requirement already satisfied: certifi>=2017.4.17 in c:\\users\\super\\anaconda3\\envs\\python38\\lib\\site-packages (from requests->papermill->scrapbook) (2023.7.22)\n",
      "Requirement already satisfied: executing in c:\\users\\super\\anaconda3\\envs\\python38\\lib\\site-packages (from stack-data->ipython->scrapbook) (0.8.3)\n",
      "Requirement already satisfied: asttokens in c:\\users\\super\\anaconda3\\envs\\python38\\lib\\site-packages (from stack-data->ipython->scrapbook) (2.0.5)\n",
      "Requirement already satisfied: pure-eval in c:\\users\\super\\anaconda3\\envs\\python38\\lib\\site-packages (from stack-data->ipython->scrapbook) (0.2.2)\n",
      "Requirement already satisfied: pyzmq>=23.0 in c:\\users\\super\\anaconda3\\envs\\python38\\lib\\site-packages (from jupyter-client>=6.1.5->nbclient>=0.2.0->papermill->scrapbook) (23.2.0)\n",
      "Requirement already satisfied: tornado>=6.2 in c:\\users\\super\\anaconda3\\envs\\python38\\lib\\site-packages (from jupyter-client>=6.1.5->nbclient>=0.2.0->papermill->scrapbook) (6.3.2)\n",
      "Requirement already satisfied: platformdirs>=2.5 in c:\\users\\super\\anaconda3\\envs\\python38\\lib\\site-packages (from jupyter-core->nbformat>=5.1.2->papermill->scrapbook) (3.10.0)\n",
      "Requirement already satisfied: pywin32>=300 in c:\\users\\super\\anaconda3\\envs\\python38\\lib\\site-packages (from jupyter-core->nbformat>=5.1.2->papermill->scrapbook) (305.1)\n",
      "Downloading pyarrow-13.0.0-cp38-cp38-win_amd64.whl (24.4 MB)\n",
      "   ---------------------------------------- 0.0/24.4 MB ? eta -:--:--\n",
      "    --------------------------------------- 0.4/24.4 MB 8.3 MB/s eta 0:00:03\n",
      "   - -------------------------------------- 0.7/24.4 MB 7.8 MB/s eta 0:00:04\n",
      "   - -------------------------------------- 1.1/24.4 MB 8.1 MB/s eta 0:00:03\n",
      "   -- ------------------------------------- 1.6/24.4 MB 8.6 MB/s eta 0:00:03\n",
      "   --- ------------------------------------ 2.2/24.4 MB 9.3 MB/s eta 0:00:03\n",
      "   --- ------------------------------------ 2.4/24.4 MB 8.9 MB/s eta 0:00:03\n",
      "   ---- ----------------------------------- 2.8/24.4 MB 8.6 MB/s eta 0:00:03\n",
      "   ----- ---------------------------------- 3.3/24.4 MB 8.9 MB/s eta 0:00:03\n",
      "   ------ --------------------------------- 3.8/24.4 MB 8.9 MB/s eta 0:00:03\n",
      "   ------- -------------------------------- 4.4/24.4 MB 9.4 MB/s eta 0:00:03\n",
      "   -------- ------------------------------- 5.0/24.4 MB 9.7 MB/s eta 0:00:02\n",
      "   --------- ------------------------------ 5.5/24.4 MB 10.1 MB/s eta 0:00:02\n",
      "   --------- ------------------------------ 5.8/24.4 MB 9.7 MB/s eta 0:00:02\n",
      "   ---------- ----------------------------- 6.3/24.4 MB 9.6 MB/s eta 0:00:02\n",
      "   ----------- ---------------------------- 6.8/24.4 MB 9.4 MB/s eta 0:00:02\n",
      "   ------------ --------------------------- 7.5/24.4 MB 9.6 MB/s eta 0:00:02\n",
      "   ------------- -------------------------- 8.3/24.4 MB 9.8 MB/s eta 0:00:02\n",
      "   -------------- ------------------------- 8.7/24.4 MB 9.7 MB/s eta 0:00:02\n",
      "   -------------- ------------------------- 9.1/24.4 MB 9.7 MB/s eta 0:00:02\n",
      "   --------------- ------------------------ 9.6/24.4 MB 9.8 MB/s eta 0:00:02\n",
      "   ---------------- ----------------------- 10.2/24.4 MB 9.7 MB/s eta 0:00:02\n",
      "   ----------------- ---------------------- 10.7/24.4 MB 9.9 MB/s eta 0:00:02\n",
      "   ------------------ --------------------- 11.2/24.4 MB 10.1 MB/s eta 0:00:02\n",
      "   ------------------- -------------------- 11.8/24.4 MB 10.1 MB/s eta 0:00:02\n",
      "   -------------------- ------------------- 12.3/24.4 MB 9.9 MB/s eta 0:00:02\n",
      "   --------------------- ------------------ 12.9/24.4 MB 10.1 MB/s eta 0:00:02\n",
      "   ---------------------- ----------------- 13.6/24.4 MB 10.1 MB/s eta 0:00:02\n",
      "   ----------------------- ---------------- 14.2/24.4 MB 10.2 MB/s eta 0:00:01\n",
      "   ------------------------ --------------- 14.9/24.4 MB 10.1 MB/s eta 0:00:01\n",
      "   ------------------------- -------------- 15.4/24.4 MB 10.1 MB/s eta 0:00:01\n",
      "   -------------------------- ------------- 15.9/24.4 MB 10.2 MB/s eta 0:00:01\n",
      "   --------------------------- ------------ 16.7/24.4 MB 10.9 MB/s eta 0:00:01\n",
      "   --------------------------- ------------ 17.0/24.4 MB 10.6 MB/s eta 0:00:01\n",
      "   ---------------------------- ----------- 17.5/24.4 MB 10.6 MB/s eta 0:00:01\n",
      "   ----------------------------- ---------- 17.7/24.4 MB 10.2 MB/s eta 0:00:01\n",
      "   ----------------------------- ---------- 18.2/24.4 MB 10.2 MB/s eta 0:00:01\n",
      "   ------------------------------ --------- 18.7/24.4 MB 10.4 MB/s eta 0:00:01\n",
      "   ------------------------------- -------- 19.3/24.4 MB 10.2 MB/s eta 0:00:01\n",
      "   -------------------------------- ------- 19.7/24.4 MB 10.2 MB/s eta 0:00:01\n",
      "   --------------------------------- ------ 20.6/24.4 MB 10.2 MB/s eta 0:00:01\n",
      "   ---------------------------------- ----- 21.1/24.4 MB 10.4 MB/s eta 0:00:01\n",
      "   ----------------------------------- ---- 21.4/24.4 MB 10.2 MB/s eta 0:00:01\n",
      "   ----------------------------------- ---- 21.7/24.4 MB 10.2 MB/s eta 0:00:01\n",
      "   ------------------------------------ --- 22.0/24.4 MB 10.2 MB/s eta 0:00:01\n",
      "   ------------------------------------ --- 22.5/24.4 MB 9.9 MB/s eta 0:00:01\n",
      "   ------------------------------------- -- 23.1/24.4 MB 10.2 MB/s eta 0:00:01\n",
      "   -------------------------------------- - 23.3/24.4 MB 10.1 MB/s eta 0:00:01\n",
      "   -------------------------------------- - 23.7/24.4 MB 9.9 MB/s eta 0:00:01\n",
      "   ---------------------------------------  24.0/24.4 MB 9.8 MB/s eta 0:00:01\n",
      "   ---------------------------------------  24.4/24.4 MB 9.6 MB/s eta 0:00:01\n",
      "   ---------------------------------------  24.4/24.4 MB 9.6 MB/s eta 0:00:01\n",
      "   ---------------------------------------- 24.4/24.4 MB 8.7 MB/s eta 0:00:00\n",
      "Downloading tenacity-8.2.3-py3-none-any.whl (24 kB)\n",
      "Installing collected packages: textwrap3, tenacity, pyarrow, ansiwrap, papermill, scrapbook\n",
      "Successfully installed ansiwrap-0.8.4 papermill-2.4.0 pyarrow-13.0.0 scrapbook-0.5.0 tenacity-8.2.3 textwrap3-0.9.2\n"
     ]
    }
   ],
   "source": [
    "!pip install scrapbook"
   ]
  },
  {
   "cell_type": "code",
   "execution_count": 4,
   "id": "22fe85e2-9507-4c7f-928e-a2f4a3b4f8c3",
   "metadata": {
    "tags": []
   },
   "outputs": [
    {
     "name": "stdout",
     "output_type": "stream",
     "text": [
      "Requirement already satisfied: tensorflow==2.6.1 in c:\\users\\super\\anaconda3\\envs\\python38\\lib\\site-packages (2.6.1)\n",
      "Requirement already satisfied: numpy~=1.19.2 in c:\\users\\super\\appdata\\roaming\\python\\python38\\site-packages (from tensorflow==2.6.1) (1.19.5)\n",
      "Requirement already satisfied: absl-py~=0.10 in c:\\users\\super\\anaconda3\\envs\\python38\\lib\\site-packages (from tensorflow==2.6.1) (0.15.0)\n",
      "Requirement already satisfied: astunparse~=1.6.3 in c:\\users\\super\\anaconda3\\envs\\python38\\lib\\site-packages (from tensorflow==2.6.1) (1.6.3)\n",
      "Requirement already satisfied: clang~=5.0 in c:\\users\\super\\anaconda3\\envs\\python38\\lib\\site-packages (from tensorflow==2.6.1) (5.0)\n",
      "Requirement already satisfied: flatbuffers~=1.12.0 in c:\\users\\super\\anaconda3\\envs\\python38\\lib\\site-packages (from tensorflow==2.6.1) (1.12)\n",
      "Requirement already satisfied: google-pasta~=0.2 in c:\\users\\super\\anaconda3\\envs\\python38\\lib\\site-packages (from tensorflow==2.6.1) (0.2.0)\n",
      "Requirement already satisfied: h5py~=3.1.0 in c:\\users\\super\\anaconda3\\envs\\python38\\lib\\site-packages (from tensorflow==2.6.1) (3.1.0)\n",
      "Requirement already satisfied: keras-preprocessing~=1.1.2 in c:\\users\\super\\anaconda3\\envs\\python38\\lib\\site-packages (from tensorflow==2.6.1) (1.1.2)\n",
      "Requirement already satisfied: opt-einsum~=3.3.0 in c:\\users\\super\\anaconda3\\envs\\python38\\lib\\site-packages (from tensorflow==2.6.1) (3.3.0)\n",
      "Requirement already satisfied: protobuf>=3.9.2 in c:\\users\\super\\anaconda3\\envs\\python38\\lib\\site-packages (from tensorflow==2.6.1) (4.24.2)\n",
      "Requirement already satisfied: six~=1.15.0 in c:\\users\\super\\anaconda3\\envs\\python38\\lib\\site-packages (from tensorflow==2.6.1) (1.15.0)\n",
      "Requirement already satisfied: termcolor~=1.1.0 in c:\\users\\super\\anaconda3\\envs\\python38\\lib\\site-packages (from tensorflow==2.6.1) (1.1.0)\n",
      "Requirement already satisfied: typing-extensions~=3.7.4 in c:\\users\\super\\anaconda3\\envs\\python38\\lib\\site-packages (from tensorflow==2.6.1) (3.7.4.3)\n",
      "Requirement already satisfied: wheel~=0.35 in c:\\users\\super\\anaconda3\\envs\\python38\\lib\\site-packages (from tensorflow==2.6.1) (0.38.4)\n",
      "Requirement already satisfied: wrapt~=1.12.1 in c:\\users\\super\\anaconda3\\envs\\python38\\lib\\site-packages (from tensorflow==2.6.1) (1.12.1)\n",
      "Requirement already satisfied: gast==0.4.0 in c:\\users\\super\\anaconda3\\envs\\python38\\lib\\site-packages (from tensorflow==2.6.1) (0.4.0)\n",
      "Requirement already satisfied: tensorboard~=2.6 in c:\\users\\super\\anaconda3\\envs\\python38\\lib\\site-packages (from tensorflow==2.6.1) (2.14.0)\n",
      "Requirement already satisfied: tensorflow-estimator<2.7 in c:\\users\\super\\appdata\\roaming\\python\\python38\\site-packages (from tensorflow==2.6.1) (2.6.0)\n",
      "Requirement already satisfied: keras~=2.6 in c:\\users\\super\\anaconda3\\envs\\python38\\lib\\site-packages (from tensorflow==2.6.1) (2.13.1)\n",
      "Requirement already satisfied: grpcio<2.0,>=1.37.0 in c:\\users\\super\\anaconda3\\envs\\python38\\lib\\site-packages (from tensorflow==2.6.1) (1.57.0)\n",
      "Requirement already satisfied: google-auth<3,>=1.6.3 in c:\\users\\super\\anaconda3\\envs\\python38\\lib\\site-packages (from tensorboard~=2.6->tensorflow==2.6.1) (2.22.0)\n",
      "Requirement already satisfied: google-auth-oauthlib<1.1,>=0.5 in c:\\users\\super\\anaconda3\\envs\\python38\\lib\\site-packages (from tensorboard~=2.6->tensorflow==2.6.1) (1.0.0)\n",
      "Requirement already satisfied: markdown>=2.6.8 in c:\\users\\super\\anaconda3\\envs\\python38\\lib\\site-packages (from tensorboard~=2.6->tensorflow==2.6.1) (3.4.4)\n",
      "Requirement already satisfied: requests<3,>=2.21.0 in c:\\users\\super\\anaconda3\\envs\\python38\\lib\\site-packages (from tensorboard~=2.6->tensorflow==2.6.1) (2.31.0)\n",
      "Requirement already satisfied: setuptools>=41.0.0 in c:\\users\\super\\anaconda3\\envs\\python38\\lib\\site-packages (from tensorboard~=2.6->tensorflow==2.6.1) (68.0.0)\n",
      "Requirement already satisfied: tensorboard-data-server<0.8.0,>=0.7.0 in c:\\users\\super\\anaconda3\\envs\\python38\\lib\\site-packages (from tensorboard~=2.6->tensorflow==2.6.1) (0.7.1)\n",
      "Requirement already satisfied: werkzeug>=1.0.1 in c:\\users\\super\\anaconda3\\envs\\python38\\lib\\site-packages (from tensorboard~=2.6->tensorflow==2.6.1) (2.3.7)\n",
      "Requirement already satisfied: cachetools<6.0,>=2.0.0 in c:\\users\\super\\anaconda3\\envs\\python38\\lib\\site-packages (from google-auth<3,>=1.6.3->tensorboard~=2.6->tensorflow==2.6.1) (5.3.1)\n",
      "Requirement already satisfied: pyasn1-modules>=0.2.1 in c:\\users\\super\\anaconda3\\envs\\python38\\lib\\site-packages (from google-auth<3,>=1.6.3->tensorboard~=2.6->tensorflow==2.6.1) (0.3.0)\n",
      "Requirement already satisfied: rsa<5,>=3.1.4 in c:\\users\\super\\anaconda3\\envs\\python38\\lib\\site-packages (from google-auth<3,>=1.6.3->tensorboard~=2.6->tensorflow==2.6.1) (4.9)\n",
      "Requirement already satisfied: urllib3<2.0 in c:\\users\\super\\anaconda3\\envs\\python38\\lib\\site-packages (from google-auth<3,>=1.6.3->tensorboard~=2.6->tensorflow==2.6.1) (1.26.16)\n",
      "Requirement already satisfied: requests-oauthlib>=0.7.0 in c:\\users\\super\\anaconda3\\envs\\python38\\lib\\site-packages (from google-auth-oauthlib<1.1,>=0.5->tensorboard~=2.6->tensorflow==2.6.1) (1.3.1)\n",
      "Requirement already satisfied: importlib-metadata>=4.4 in c:\\users\\super\\anaconda3\\envs\\python38\\lib\\site-packages (from markdown>=2.6.8->tensorboard~=2.6->tensorflow==2.6.1) (6.0.0)\n",
      "Requirement already satisfied: charset-normalizer<4,>=2 in c:\\users\\super\\anaconda3\\envs\\python38\\lib\\site-packages (from requests<3,>=2.21.0->tensorboard~=2.6->tensorflow==2.6.1) (2.0.4)\n",
      "Requirement already satisfied: idna<4,>=2.5 in c:\\users\\super\\anaconda3\\envs\\python38\\lib\\site-packages (from requests<3,>=2.21.0->tensorboard~=2.6->tensorflow==2.6.1) (3.4)\n",
      "Requirement already satisfied: certifi>=2017.4.17 in c:\\users\\super\\anaconda3\\envs\\python38\\lib\\site-packages (from requests<3,>=2.21.0->tensorboard~=2.6->tensorflow==2.6.1) (2023.7.22)\n",
      "Requirement already satisfied: MarkupSafe>=2.1.1 in c:\\users\\super\\anaconda3\\envs\\python38\\lib\\site-packages (from werkzeug>=1.0.1->tensorboard~=2.6->tensorflow==2.6.1) (2.1.1)\n",
      "Requirement already satisfied: zipp>=0.5 in c:\\users\\super\\anaconda3\\envs\\python38\\lib\\site-packages (from importlib-metadata>=4.4->markdown>=2.6.8->tensorboard~=2.6->tensorflow==2.6.1) (3.11.0)\n",
      "Requirement already satisfied: pyasn1<0.6.0,>=0.4.6 in c:\\users\\super\\anaconda3\\envs\\python38\\lib\\site-packages (from pyasn1-modules>=0.2.1->google-auth<3,>=1.6.3->tensorboard~=2.6->tensorflow==2.6.1) (0.5.0)\n",
      "Requirement already satisfied: oauthlib>=3.0.0 in c:\\users\\super\\anaconda3\\envs\\python38\\lib\\site-packages (from requests-oauthlib>=0.7.0->google-auth-oauthlib<1.1,>=0.5->tensorboard~=2.6->tensorflow==2.6.1) (3.2.2)\n"
     ]
    },
    {
     "name": "stderr",
     "output_type": "stream",
     "text": [
      "WARNING: Ignoring invalid distribution -umpy (c:\\users\\super\\appdata\\roaming\\python\\python38\\site-packages)\n",
      "WARNING: Ignoring invalid distribution -umpy (c:\\users\\super\\appdata\\roaming\\python\\python38\\site-packages)\n",
      "WARNING: Ignoring invalid distribution -umpy (c:\\users\\super\\appdata\\roaming\\python\\python38\\site-packages)\n",
      "WARNING: Ignoring invalid distribution -umpy (c:\\users\\super\\appdata\\roaming\\python\\python38\\site-packages)\n",
      "WARNING: Ignoring invalid distribution -umpy (c:\\users\\super\\appdata\\roaming\\python\\python38\\site-packages)\n",
      "WARNING: Ignoring invalid distribution -umpy (c:\\users\\super\\appdata\\roaming\\python\\python38\\site-packages)\n"
     ]
    }
   ],
   "source": [
    "!pip install tensorflow==2.6.1"
   ]
  },
  {
   "cell_type": "code",
   "execution_count": 8,
   "id": "f538d03c-47a1-4553-8347-068edd7a64fe",
   "metadata": {
    "tags": []
   },
   "outputs": [
    {
     "name": "stdout",
     "output_type": "stream",
     "text": [
      "Collecting numpy==1.20.3\n",
      "  Using cached numpy-1.20.3-cp38-cp38-win_amd64.whl (13.7 MB)\n",
      "Installing collected packages: numpy\n",
      "Successfully installed numpy-1.20.3\n"
     ]
    },
    {
     "name": "stderr",
     "output_type": "stream",
     "text": [
      "WARNING: Ignoring invalid distribution -umpy (c:\\users\\super\\appdata\\roaming\\python\\python38\\site-packages)\n",
      "WARNING: Ignoring invalid distribution -umpy (c:\\users\\super\\appdata\\roaming\\python\\python38\\site-packages)\n",
      "WARNING: Ignoring invalid distribution -umpy (c:\\users\\super\\appdata\\roaming\\python\\python38\\site-packages)\n",
      "  WARNING: The script f2py.exe is installed in 'C:\\Users\\super\\AppData\\Roaming\\Python\\Python38\\Scripts' which is not on PATH.\n",
      "  Consider adding this directory to PATH or, if you prefer to suppress this warning, use --no-warn-script-location.\n",
      "ERROR: pip's dependency resolver does not currently take into account all the packages that are installed. This behaviour is the source of the following dependency conflicts.\n",
      "numba 0.57.1 requires numpy<1.25,>=1.21, but you have numpy 1.20.3 which is incompatible.\n",
      "tensorflow 2.6.1 requires numpy~=1.19.2, but you have numpy 1.20.3 which is incompatible.\n",
      "WARNING: Ignoring invalid distribution -umpy (c:\\users\\super\\appdata\\roaming\\python\\python38\\site-packages)\n",
      "WARNING: Ignoring invalid distribution -umpy (c:\\users\\super\\appdata\\roaming\\python\\python38\\site-packages)\n",
      "WARNING: Ignoring invalid distribution -umpy (c:\\users\\super\\appdata\\roaming\\python\\python38\\site-packages)\n"
     ]
    }
   ],
   "source": [
    "!pip install numpy==1.20.3 --user"
   ]
  },
  {
   "cell_type": "code",
   "execution_count": 1,
   "id": "aac4d378-ed81-4caf-b907-26bccbcab3fd",
   "metadata": {
    "tags": []
   },
   "outputs": [
    {
     "name": "stdout",
     "output_type": "stream",
     "text": [
      "Collecting package metadata (repodata.json): ...working... done\n",
      "Solving environment: ...working... failed\n",
      "\n",
      "Note: you may need to restart the kernel to use updated packages.\n"
     ]
    },
    {
     "name": "stderr",
     "output_type": "stream",
     "text": [
      "DEBUG:urllib3.connectionpool:Starting new HTTPS connection (1): repo.anaconda.com:443\n",
      "DEBUG:urllib3.connectionpool:Starting new HTTPS connection (1): repo.anaconda.com:443\n",
      "DEBUG:urllib3.connectionpool:Starting new HTTPS connection (1): repo.anaconda.com:443\n",
      "DEBUG:urllib3.connectionpool:Starting new HTTPS connection (1): repo.anaconda.com:443\n",
      "DEBUG:urllib3.connectionpool:Starting new HTTPS connection (1): repo.anaconda.com:443\n",
      "DEBUG:urllib3.connectionpool:Starting new HTTPS connection (1): repo.anaconda.com:443\n",
      "DEBUG:urllib3.connectionpool:https://repo.anaconda.com:443 \"GET /pkgs/msys2/win-64/repodata.json HTTP/1.1\" 304 0\n",
      "DEBUG:urllib3.connectionpool:https://repo.anaconda.com:443 \"GET /pkgs/msys2/noarch/repodata.json HTTP/1.1\" 304 0\n",
      "DEBUG:urllib3.connectionpool:https://repo.anaconda.com:443 \"GET /pkgs/r/noarch/repodata.json HTTP/1.1\" 304 0\n",
      "DEBUG:urllib3.connectionpool:https://repo.anaconda.com:443 \"GET /pkgs/r/win-64/repodata.json HTTP/1.1\" 304 0\n",
      "DEBUG:urllib3.connectionpool:https://repo.anaconda.com:443 \"GET /pkgs/main/win-64/repodata.json HTTP/1.1\" 200 None\n",
      "DEBUG:urllib3.connectionpool:https://repo.anaconda.com:443 \"GET /pkgs/main/noarch/repodata.json HTTP/1.1\" 200 None\n",
      "\n",
      "PackagesNotFoundError: The following packages are missing from the target environment:\n",
      "  - numpy\n",
      "\n",
      "\n"
     ]
    }
   ],
   "source": [
    "conda uninstall numpy"
   ]
  },
  {
   "cell_type": "code",
   "execution_count": 1,
   "id": "9761ebc3-db06-4304-a3ce-10697dc6a420",
   "metadata": {
    "tags": []
   },
   "outputs": [
    {
     "name": "stdout",
     "output_type": "stream",
     "text": [
      "Name: numpy\n",
      "Version: 1.20.3\n",
      "Summary: NumPy is the fundamental package for array computing with Python.\n",
      "Home-page: https://www.numpy.org\n",
      "Author: Travis E. Oliphant et al.\n",
      "Author-email: \n",
      "License: BSD\n",
      "Location: c:\\users\\super\\appdata\\roaming\\python\\python38\\site-packages\n",
      "Requires: \n",
      "Required-by: Bottleneck, category-encoders, contourpy, cornac, h5py, Keras-Preprocessing, lightfm, lightgbm, matplotlib, numba, opt-einsum, pandas, pandera, patsy, powerlaw, pyarrow, recommenders, scikit-learn, scikit-surprise, scipy, seaborn, statsmodels, tensorboard, tensorflow, transformers\n"
     ]
    },
    {
     "name": "stderr",
     "output_type": "stream",
     "text": [
      "WARNING: Ignoring invalid distribution -umpy (c:\\users\\super\\appdata\\roaming\\python\\python38\\site-packages)\n"
     ]
    }
   ],
   "source": [
    "!pip show numpy"
   ]
  },
  {
   "cell_type": "code",
   "execution_count": 27,
   "id": "b5bc0a46-1baf-44d3-8991-6290e5a153b0",
   "metadata": {
    "tags": []
   },
   "outputs": [],
   "source": [
    "epochs=1\n",
    "seed=40\n",
    "bath_size=32\n",
    "\n",
    "MIND_type='demo'"
   ]
  },
  {
   "cell_type": "code",
   "execution_count": 8,
   "id": "0c0a7ecf-b589-4e8f-ac2c-2c64dc8798ee",
   "metadata": {
    "tags": []
   },
   "outputs": [
    {
     "name": "stderr",
     "output_type": "stream",
     "text": [
      "100%|██████████| 17.0k/17.0k [00:03<00:00, 4.52kKB/s]\n",
      "100%|██████████| 9.84k/9.84k [00:01<00:00, 6.32kKB/s]\n",
      "100%|██████████| 95.0k/95.0k [00:27<00:00, 3.46kKB/s]\n"
     ]
    }
   ],
   "source": [
    "tmpdir = TemporaryDirectory()\n",
    "data_path = tmpdir.name\n",
    "\n",
    "train_news_file = os.path.join(data_path, 'train', r'news.tsv')\n",
    "train_behaviors_file = os.path.join(data_path, 'train', r'behaviors.tsv')\n",
    "valid_news_file = os.path.join(data_path, 'valid', r'news.tsv')\n",
    "valid_behaviors_file = os.path.join(data_path, 'valid', r'behaviors.tsv')\n",
    "wordEmb_file = os.path.join(data_path, \"utils\", \"embedding.npy\")\n",
    "userDict_file = os.path.join(data_path, \"utils\", \"uid2index.pkl\")\n",
    "wordDict_file = os.path.join(data_path, \"utils\", \"word_dict.pkl\")\n",
    "yaml_file = os.path.join(data_path, \"utils\", r'lstur.yaml')\n",
    "\n",
    "mind_url, mind_train_dataset, mind_dev_dataset, mind_utils = get_mind_data_set(MIND_type)\n",
    "\n",
    "if not os.path.exists(train_news_file):\n",
    "    download_deeprec_resources(mind_url, os.path.join(data_path, 'train'), mind_train_dataset)\n",
    "    \n",
    "if not os.path.exists(valid_news_file):\n",
    "    download_deeprec_resources(mind_url, \\\n",
    "                               os.path.join(data_path, 'valid'), mind_dev_dataset)\n",
    "if not os.path.exists(yaml_file):\n",
    "    download_deeprec_resources(r'https://recodatasets.z20.web.core.windows.net/newsrec/', \\\n",
    "                               os.path.join(data_path, 'utils'), mind_utils)"
   ]
  },
  {
   "cell_type": "code",
   "execution_count": 29,
   "id": "69974754-fc35-4656-b107-4ed3ea351c3a",
   "metadata": {
    "tags": []
   },
   "outputs": [
    {
     "name": "stdout",
     "output_type": "stream",
     "text": [
      "C:\\Users\\super\\AppData\\Local\\Temp\\tmpfecpj2nm\\utils\\lstur.yaml\n"
     ]
    }
   ],
   "source": [
    "print(yaml_file)"
   ]
  },
  {
   "cell_type": "code",
   "execution_count": 9,
   "id": "c29818fa-dc49-4c5a-a12e-5be101820581",
   "metadata": {
    "tags": []
   },
   "outputs": [
    {
     "name": "stdout",
     "output_type": "stream",
     "text": [
      "HParams object with values {'support_quick_scoring': True, 'dropout': 0.2, 'attention_hidden_dim': 200, 'head_num': 4, 'head_dim': 100, 'filter_num': 400, 'window_size': 3, 'vert_emb_dim': 100, 'subvert_emb_dim': 100, 'gru_unit': 400, 'type': 'ini', 'user_emb_dim': 50, 'learning_rate': 0.0001, 'optimizer': 'adam', 'epochs': 1, 'batch_size': 32, 'show_step': 100000, 'title_size': 30, 'his_size': 50, 'data_format': 'news', 'npratio': 4, 'metrics': ['group_auc', 'mean_mrr', 'ndcg@5;10'], 'word_emb_dim': 300, 'cnn_activation': 'relu', 'model_type': 'lstur', 'loss': 'cross_entropy_loss', 'wordEmb_file': 'C:\\\\Users\\\\super\\\\AppData\\\\Local\\\\Temp\\\\tmpfecpj2nm\\\\utils\\\\embedding.npy', 'wordDict_file': 'C:\\\\Users\\\\super\\\\AppData\\\\Local\\\\Temp\\\\tmpfecpj2nm\\\\utils\\\\word_dict.pkl', 'userDict_file': 'C:\\\\Users\\\\super\\\\AppData\\\\Local\\\\Temp\\\\tmpfecpj2nm\\\\utils\\\\uid2index.pkl'}\n"
     ]
    }
   ],
   "source": [
    "hparams = prepare_hparams(yaml_file, \n",
    "                          wordEmb_file=wordEmb_file,\n",
    "                          wordDict_file=wordDict_file, \n",
    "                          userDict_file=userDict_file,\n",
    "                          batch_size=batch_size,\n",
    "                          epochs=epochs)\n",
    "print(hparams)"
   ]
  },
  {
   "cell_type": "code",
   "execution_count": 28,
   "id": "13df112c-52de-4310-abba-88382fb098a0",
   "metadata": {
    "tags": []
   },
   "outputs": [],
   "source": [
    "iterator = MINDIterator"
   ]
  },
  {
   "cell_type": "code",
   "execution_count": 11,
   "id": "bf2d1ac7-ba2f-4718-ba0e-d0c16fc309d8",
   "metadata": {
    "tags": []
   },
   "outputs": [
    {
     "name": "stdout",
     "output_type": "stream",
     "text": [
      "Tensor(\"conv1d/Relu:0\", shape=(None, 30, 400), dtype=float32)\n",
      "Tensor(\"att_layer2/Sum_1:0\", shape=(None, 400), dtype=float32)\n"
     ]
    },
    {
     "name": "stderr",
     "output_type": "stream",
     "text": [
      "C:\\Users\\super\\anaconda3\\envs\\python38\\lib\\site-packages\\keras\\optimizer_v2\\optimizer_v2.py:355: UserWarning: The `lr` argument is deprecated, use `learning_rate` instead.\n",
      "  warnings.warn(\n"
     ]
    }
   ],
   "source": [
    "model = LSTURModel(hparams, iterator, seed=seed)"
   ]
  },
  {
   "cell_type": "code",
   "execution_count": 12,
   "id": "43154284-1b56-4b10-b6ba-b28f90851559",
   "metadata": {
    "tags": []
   },
   "outputs": [
    {
     "name": "stderr",
     "output_type": "stream",
     "text": [
      "0it [00:00, ?it/s]C:\\Users\\super\\anaconda3\\envs\\python38\\lib\\site-packages\\keras\\engine\\training.py:2470: UserWarning: `Model.state_updates` will be removed in a future version. This property should not be used in TensorFlow 2.0, as `updates` are applied automatically.\n",
      "  warnings.warn('`Model.state_updates` will be removed in a future version. '\n",
      "586it [00:15, 38.93it/s]\n",
      "236it [04:11,  1.06s/it]\n",
      "7538it [00:01, 4640.89it/s]\n"
     ]
    },
    {
     "name": "stdout",
     "output_type": "stream",
     "text": [
      "{'group_auc': 0.5201, 'mean_mrr': 0.2214, 'ndcg@5': 0.2292, 'ndcg@10': 0.2912}\n"
     ]
    }
   ],
   "source": [
    "print(model.run_eval(valid_news_file, valid_behaviors_file))"
   ]
  },
  {
   "cell_type": "code",
   "execution_count": 13,
   "id": "c339568b-2602-486f-990d-2f0773eaf3d2",
   "metadata": {
    "tags": []
   },
   "outputs": [
    {
     "name": "stderr",
     "output_type": "stream",
     "text": [
      "1086it [13:16:04, 43.98s/it]  \n",
      "586it [00:13, 42.55it/s]\n",
      "236it [07:10,  1.83s/it]\n",
      "7538it [00:02, 2741.25it/s]\n"
     ]
    },
    {
     "name": "stdout",
     "output_type": "stream",
     "text": [
      "at epoch 1\n",
      "train info: logloss loss:1.4900762238994267\n",
      "eval info: group_auc:0.5925, mean_mrr:0.2587, ndcg@10:0.3471, ndcg@5:0.2824\n",
      "at epoch 1 , train time: 47764.4 eval time: 466.6\n",
      "CPU times: total: 5h 59min 11s\n",
      "Wall time: 13h 23min 50s\n"
     ]
    },
    {
     "data": {
      "text/plain": [
       "<recommenders.models.newsrec.models.lstur.LSTURModel at 0x1f8d8dad4c0>"
      ]
     },
     "execution_count": 13,
     "metadata": {},
     "output_type": "execute_result"
    }
   ],
   "source": [
    "%%time\n",
    "model.fit(train_news_file, train_behaviors_file, valid_news_file, valid_behaviors_file)"
   ]
  },
  {
   "cell_type": "code",
   "execution_count": 14,
   "id": "00e76d08-c6d8-45c9-9098-e4eb09ac40be",
   "metadata": {
    "tags": []
   },
   "outputs": [
    {
     "name": "stderr",
     "output_type": "stream",
     "text": [
      "586it [00:12, 48.47it/s]\n",
      "236it [03:50,  1.03it/s]\n",
      "7538it [00:01, 4749.46it/s]\n"
     ]
    },
    {
     "name": "stdout",
     "output_type": "stream",
     "text": [
      "{'group_auc': 0.5925, 'mean_mrr': 0.2587, 'ndcg@5': 0.2824, 'ndcg@10': 0.3471}\n",
      "CPU times: total: 12min 10s\n",
      "Wall time: 4min 13s\n"
     ]
    }
   ],
   "source": [
    "%%time\n",
    "res_syn = model.run_eval(valid_news_file, valid_behaviors_file)\n",
    "print(res_syn)"
   ]
  },
  {
   "cell_type": "code",
   "execution_count": 15,
   "id": "94adaa3e-bb54-4ef0-906a-ea21f463ebc0",
   "metadata": {
    "tags": []
   },
   "outputs": [
    {
     "data": {
      "application/scrapbook.scrap.json+json": {
       "data": {
        "group_auc": 0.5925,
        "mean_mrr": 0.2587,
        "ndcg@10": 0.3471,
        "ndcg@5": 0.2824
       },
       "encoder": "json",
       "name": "res_syn",
       "version": 1
      }
     },
     "metadata": {
      "scrapbook": {
       "data": true,
       "display": false,
       "name": "res_syn"
      }
     },
     "output_type": "display_data"
    }
   ],
   "source": [
    "sb.glue(\"res_syn\", res_syn)"
   ]
  },
  {
   "cell_type": "code",
   "execution_count": 16,
   "id": "c69208c9-bb94-430b-8a79-f91f399b9dde",
   "metadata": {
    "tags": []
   },
   "outputs": [],
   "source": [
    "model_path = os.path.join(data_path, \"model\")\n",
    "os.makedirs(model_path, exist_ok=True)\n",
    "\n",
    "model.model.save_weights(os.path.join(model_path, \"lstur_ckpt\"))"
   ]
  },
  {
   "cell_type": "code",
   "execution_count": 17,
   "id": "d1bb240e-90ee-499a-ab9d-621834998248",
   "metadata": {
    "tags": []
   },
   "outputs": [],
   "source": [
    "model.model.save_weights(\"lstur_ckpt.h5\")"
   ]
  },
  {
   "cell_type": "code",
   "execution_count": 18,
   "id": "44e8d188-a94b-4220-a442-ede42328bf38",
   "metadata": {
    "tags": []
   },
   "outputs": [
    {
     "name": "stderr",
     "output_type": "stream",
     "text": [
      "586it [00:12, 46.61it/s]\n",
      "236it [03:52,  1.01it/s]\n",
      "7538it [00:01, 4146.01it/s]\n"
     ]
    }
   ],
   "source": [
    "group_impr_indexes, group_labels, group_preds = model.run_fast_eval(valid_news_file, valid_behaviors_file)"
   ]
  },
  {
   "cell_type": "code",
   "execution_count": 25,
   "id": "e8ab6d3e-b961-4044-bba4-fade7fa0c226",
   "metadata": {
    "tags": []
   },
   "outputs": [
    {
     "name": "stderr",
     "output_type": "stream",
     "text": [
      "7538it [00:00, 20153.79it/s]\n"
     ]
    }
   ],
   "source": [
    "with open(os.path.join(data_path, 'prediction.txt'), 'w') as f:\n",
    "    for impr_index, preds in tqdm(zip(group_impr_indexes, group_preds)):\n",
    "        impr_index += 1\n",
    "        pred_rank = (np.argsort(np.argsort(preds)[::-1]) + 1).tolist()\n",
    "        pred_rank = '[' + ','.join([str(i) for i in pred_rank]) + ']'\n",
    "        f.write(' '.join([str(impr_index), pred_rank])+ '\\n')"
   ]
  },
  {
   "cell_type": "code",
   "execution_count": 26,
   "id": "a52e6cbc-a2b6-4bdf-877d-c3749464c9b5",
   "metadata": {
    "tags": []
   },
   "outputs": [],
   "source": [
    "f = zipfile.ZipFile(os.path.join(data_path, 'prediction.zip'), 'w', zipfile.ZIP_DEFLATED)\n",
    "f.write(os.path.join(data_path, 'prediction.txt'), arcname='prediction.txt')\n",
    "f.close()"
   ]
  },
  {
   "cell_type": "code",
   "execution_count": null,
   "id": "3210651a-b2ff-4a72-84ae-29d2afcd3fbb",
   "metadata": {},
   "outputs": [],
   "source": []
  }
 ],
 "metadata": {
  "kernelspec": {
   "display_name": "Python 3 (ipykernel)",
   "language": "python",
   "name": "python3"
  },
  "language_info": {
   "codemirror_mode": {
    "name": "ipython",
    "version": 3
   },
   "file_extension": ".py",
   "mimetype": "text/x-python",
   "name": "python",
   "nbconvert_exporter": "python",
   "pygments_lexer": "ipython3",
   "version": "3.8.17"
  }
 },
 "nbformat": 4,
 "nbformat_minor": 5
}
